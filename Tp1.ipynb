{
 "cells": [
  {
   "cell_type": "markdown",
   "metadata": {},
   "source": [
    "# Étape 1 : recuperation des données"
   ]
  },
  {
   "cell_type": "code",
   "execution_count": null,
   "metadata": {
    "vscode": {
     "languageId": "r"
    }
   },
   "outputs": [],
   "source": [
    "\n",
    "\n",
    "# Lire les données (avec suppression des espaces inutiles autour des valeurs)\n",
    "myData <- read.table(\"adult.csv\", sep = \",\", header = TRUE, stringsAsFactors = FALSE, strip.white = TRUE)\n",
    "\n"
   ]
  },
  {
   "cell_type": "markdown",
   "metadata": {},
   "source": [
    "## supression de toute les lignes ayant un ? dedans"
   ]
  },
  {
   "cell_type": "code",
   "execution_count": null,
   "metadata": {
    "vscode": {
     "languageId": "r"
    }
   },
   "outputs": [],
   "source": [
    "# Nombre de lignes avant nettoyage\n",
    "initial_rows <- nrow(myData)\n",
    "\n",
    "# Supprimer les lignes contenant au moins un \"?\"\n",
    "rows_with_question <- apply(myData, 1, function(row) any(trimws(row) == \"?\"))\n",
    "myData <- myData[!rows_with_question, ]\n",
    "\n",
    "# Nombre de lignes après nettoyage\n",
    "cleaned_rows <- nrow(myData)\n",
    "\n",
    "# Résumé\n",
    "cat(\" Lignes initiales :\", initial_rows, \"\\n\")\n",
    "cat(\" Lignes supprimées :\", initial_rows - cleaned_rows, \"\\n\")\n",
    "cat(\" Lignes restantes :\", cleaned_rows, \"\\n\")\n",
    "\n"
   ]
  },
  {
   "cell_type": "markdown",
   "metadata": {},
   "source": [
    "Affichage des collones du fichier"
   ]
  },
  {
   "cell_type": "code",
   "execution_count": 26,
   "metadata": {
    "vscode": {
     "languageId": "r"
    }
   },
   "outputs": [
    {
     "data": {
      "text/html": [
       "<ol class=list-inline>\n",
       "\t<li>'age'</li>\n",
       "\t<li>'workclass'</li>\n",
       "\t<li>'fnlwgt'</li>\n",
       "\t<li>'education'</li>\n",
       "\t<li>'education.num'</li>\n",
       "\t<li>'marital.status'</li>\n",
       "\t<li>'occupation'</li>\n",
       "\t<li>'relationship'</li>\n",
       "\t<li>'race'</li>\n",
       "\t<li>'sex'</li>\n",
       "\t<li>'capital.gain'</li>\n",
       "\t<li>'capital.loss'</li>\n",
       "\t<li>'hours.per.week'</li>\n",
       "\t<li>'native.country'</li>\n",
       "\t<li>'income'</li>\n",
       "</ol>\n"
      ],
      "text/latex": [
       "\\begin{enumerate*}\n",
       "\\item 'age'\n",
       "\\item 'workclass'\n",
       "\\item 'fnlwgt'\n",
       "\\item 'education'\n",
       "\\item 'education.num'\n",
       "\\item 'marital.status'\n",
       "\\item 'occupation'\n",
       "\\item 'relationship'\n",
       "\\item 'race'\n",
       "\\item 'sex'\n",
       "\\item 'capital.gain'\n",
       "\\item 'capital.loss'\n",
       "\\item 'hours.per.week'\n",
       "\\item 'native.country'\n",
       "\\item 'income'\n",
       "\\end{enumerate*}\n"
      ],
      "text/markdown": [
       "1. 'age'\n",
       "2. 'workclass'\n",
       "3. 'fnlwgt'\n",
       "4. 'education'\n",
       "5. 'education.num'\n",
       "6. 'marital.status'\n",
       "7. 'occupation'\n",
       "8. 'relationship'\n",
       "9. 'race'\n",
       "10. 'sex'\n",
       "11. 'capital.gain'\n",
       "12. 'capital.loss'\n",
       "13. 'hours.per.week'\n",
       "14. 'native.country'\n",
       "15. 'income'\n",
       "\n",
       "\n"
      ],
      "text/plain": [
       " [1] \"age\"            \"workclass\"      \"fnlwgt\"         \"education\"     \n",
       " [5] \"education.num\"  \"marital.status\" \"occupation\"     \"relationship\"  \n",
       " [9] \"race\"           \"sex\"            \"capital.gain\"   \"capital.loss\"  \n",
       "[13] \"hours.per.week\" \"native.country\" \"income\"        "
      ]
     },
     "metadata": {},
     "output_type": "display_data"
    }
   ],
   "source": [
    "#affichage de tous les noms de colonnes\n",
    "colnames(myData)"
   ]
  },
  {
   "cell_type": "markdown",
   "metadata": {},
   "source": [
    "Affichage d'un resumer des datas"
   ]
  },
  {
   "cell_type": "code",
   "execution_count": null,
   "metadata": {
    "vscode": {
     "languageId": "r"
    }
   },
   "outputs": [],
   "source": [
    "summary(myData)"
   ]
  },
  {
   "cell_type": "markdown",
   "metadata": {},
   "source": [
    "# Etape 2: Choix des attribues qualitatifs ayant un impact sur le revenu\n",
    "###  for sure :Work class / education / occupation / specialty\n",
    "### to check: native country  / race / sex"
   ]
  },
  {
   "cell_type": "markdown",
   "metadata": {},
   "source": [
    "### setup des marges et de la police pour des graphiques plus lisibles"
   ]
  },
  {
   "cell_type": "code",
   "execution_count": null,
   "metadata": {
    "vscode": {
     "languageId": "r"
    }
   },
   "outputs": [],
   "source": [
    "\n",
    "#par(mar = c(6, 6, 6, 6),cex.names = 0.01) # Ajuste les marges de la fenêtre graphique et la taille de police des champs\n",
    "par(mar = c(8, 8, 6, 6),  cex.axis = 0.1)  # Augmenter les marges et ajuster la taille de la police\n"
   ]
  },
  {
   "cell_type": "markdown",
   "metadata": {},
   "source": [
    "## workclass"
   ]
  },
  {
   "cell_type": "code",
   "execution_count": null,
   "metadata": {
    "vscode": {
     "languageId": "r"
    }
   },
   "outputs": [],
   "source": [
    "\n",
    "table(myData[, c(2, 15)])\n",
    "\n",
    "\n",
    "barplot(prop.table(table(myData[, c(2)])), main = \"P(workclass)\", legend = F, beside = FALSE,  las = 2,ylim = c(0,1))\n",
    "barplot(t(prop.table(table(myData[, c(2, 15)]), 1)), main = \"P(income|workclass)\", legend = TRUE, beside = FALSE, las = 2)\n"
   ]
  },
  {
   "cell_type": "markdown",
   "metadata": {},
   "source": []
  },
  {
   "cell_type": "markdown",
   "metadata": {},
   "source": [
    "## Education"
   ]
  },
  {
   "cell_type": "code",
   "execution_count": null,
   "metadata": {
    "vscode": {
     "languageId": "r"
    }
   },
   "outputs": [],
   "source": [
    "table(myData[, c(4, 15)])\n",
    "\n",
    "\n",
    "barplot(prop.table(table(myData[, c(4)])), main = \"P(workclass)\", legend = F, beside = FALSE, las = 2,ylim = c(0,1))\n",
    "barplot(t(prop.table(table(myData[, c(4, 15)]), 1)), main = \"P(income|workclass)\", legend = TRUE, beside = FALSE,  las = 2)\n"
   ]
  },
  {
   "cell_type": "markdown",
   "metadata": {},
   "source": [
    "## Occupation"
   ]
  },
  {
   "cell_type": "code",
   "execution_count": null,
   "metadata": {
    "vscode": {
     "languageId": "r"
    }
   },
   "outputs": [],
   "source": [
    "table(myData[, c(7, 15)])\n",
    "prop.table(table(myData[, c(7)]))\n",
    "\n",
    "\n",
    "barplot(prop.table(table(myData[, c(7)])), main = \"P(occupation)\", legend = F, beside = FALSE, las = 2,ylim = c(0,0.5))\n",
    "barplot(t(prop.table(table(myData[, c(7, 15)]), 1)), main = \"P(income|occupation)\", legend = TRUE, beside = FALSE,  las = 2)\n"
   ]
  },
  {
   "cell_type": "markdown",
   "metadata": {},
   "source": [
    "## Native country"
   ]
  },
  {
   "cell_type": "code",
   "execution_count": null,
   "metadata": {
    "vscode": {
     "languageId": "r"
    }
   },
   "outputs": [],
   "source": [
    "table(myData[, c(14, 15)])\n",
    "prop.table(table(myData[, c(14)]))\n",
    "\n",
    "\n",
    "barplot(prop.table(table(myData[, c(14)])), main = \"P(Native country)\", legend = F, beside = FALSE, las = 2,ylim = c(0,1))\n",
    "barplot(t(prop.table(table(myData[, c(14, 15)]), 1)), main = \"P(income|Native country)\", legend = TRUE, beside = FALSE,  las = 2)\n"
   ]
  },
  {
   "cell_type": "markdown",
   "metadata": {},
   "source": [
    "## Marital status"
   ]
  },
  {
   "cell_type": "code",
   "execution_count": null,
   "metadata": {
    "vscode": {
     "languageId": "r"
    }
   },
   "outputs": [],
   "source": [
    "table(myData[, c(6, 15)])\n",
    "prop.table(table(myData[, c(6)]))\n",
    "\n",
    "\n",
    "barplot(prop.table(table(myData[, c(6)])), main = \"P(Marital status)\", legend = F, beside = FALSE, las = 2,ylim = c(0,1))\n",
    "barplot(t(prop.table(table(myData[, c(6, 15)]), 1)), main = \"P(income|Marital status)\", legend = TRUE, beside = FALSE,  las = 2)\n"
   ]
  },
  {
   "cell_type": "markdown",
   "metadata": {},
   "source": [
    "## Relashionship"
   ]
  },
  {
   "cell_type": "code",
   "execution_count": null,
   "metadata": {
    "vscode": {
     "languageId": "r"
    }
   },
   "outputs": [
    {
     "data": {
      "text/plain": [
       "                income\n",
       "relationship     <=50K >50K\n",
       "  Husband         6784 5679\n",
       "  Not-in-family   6903  823\n",
       "  Other-relative   854   35\n",
       "  Own-child       4402   64\n",
       "  Unmarried       2999  213\n",
       "  Wife             712  694"
      ]
     },
     "metadata": {},
     "output_type": "display_data"
    },
    {
     "data": {
      "text/plain": [
       "\n",
       "       Husband  Not-in-family Other-relative      Own-child      Unmarried \n",
       "    0.41320204     0.25615012     0.02947417     0.14806710     0.10649161 \n",
       "          Wife \n",
       "    0.04661495 "
      ]
     },
     "metadata": {},
     "output_type": "display_data"
    },
    {
     "data": {
      "image/png": "[encoded data removed]",
      "text/plain": [
       "Plot with title \"P(Marital status)\""
      ]
     },
     "metadata": {},
     "output_type": "display_data"
    },
    {
     "data": {
      "image/png": "[encoded data removed]",
      "text/plain": [
       "Plot with title \"P(income|Marital status)\""
      ]
     },
     "metadata": {},
     "output_type": "display_data"
    }
   ],
   "source": [
    "table(myData[, c(8, 15)])\n",
    "prop.table(table(myData[, c(8)]))\n",
    "\n",
    "\n",
    "barplot(prop.table(table(myData[, c(8)])), main = \"P(Relationship)\", legend = F, beside = FALSE, las = 2,ylim = c(0,1))\n",
    "barplot(t(prop.table(table(myData[, c(8, 15)]), 1)), main = \"P(income|Relationship)\", legend = TRUE, beside = FALSE,  las = 2)\n"
   ]
  }
 ],
 "metadata": {
  "kernelspec": {
   "display_name": "R",
   "language": "R",
   "name": "ir"
  },
  "language_info": {
   "codemirror_mode": "r",
   "file_extension": ".r",
   "mimetype": "text/x-r-source",
   "name": "R",
   "pygments_lexer": "r",
   "version": "3.6.1"
  }
 },
 "nbformat": 4,
 "nbformat_minor": 2
}
