{
 "cells": [
  {
   "cell_type": "markdown",
   "metadata": {},
   "source": [
    "# Étape 1 : recuperation des données"
   ]
  },
  {
   "cell_type": "code",
<<<<<<< HEAD
   "execution_count": 107,
=======
   "execution_count": 11,
>>>>>>> 10740d50db91de12811081a3f1573562ecf0524c
   "metadata": {
    "vscode": {
     "languageId": "r"
    }
   },
   "outputs": [],
   "source": [
    "# move to your working directory, ideally data and jupyter-notebook should be there\n",
    "# setwd(\"C:/Users/thiba/OneDrive - HESSO/Annee_3/Semestre2/DataMining/TP1\")\n",
    "# setwd(\"C:/Users/rami/Documents/a_6eme/DataMining/TP1/Tp1_DataMinning\")\n",
    "# check whether we moved there\n",
    "# getwd()\n",
    "\n",
    "# read the titanic data\n",
    "myData <- read.table(file = \"adult.csv\", sep = \",\", header = T)\n"
   ]
  },
  {
   "cell_type": "markdown",
   "metadata": {},
   "source": [
    "## supression de toute les lignes ayant un ? dedans"
   ]
  },
  {
   "cell_type": "code",
   "execution_count": null,
   "metadata": {
    "vscode": {
     "languageId": "r"
    }
   },
   "outputs": [
    {
     "data": {
      "text/html": [
       "0"
      ],
      "text/latex": [
       "0"
      ],
      "text/markdown": [
       "0"
      ],
      "text/plain": [
       "[1] 0"
      ]
     },
     "metadata": {},
     "output_type": "display_data"
    }
   ],
   "source": [
    "# Supprimer les lignes contenant \"?\" dans n'importe quelle colonne\n",
    "\n"
   ]
  },
  {
   "cell_type": "markdown",
   "metadata": {},
   "source": [
    "Affichage des collones du fichier"
   ]
  },
  {
   "cell_type": "code",
<<<<<<< HEAD
   "execution_count": 109,
=======
   "execution_count": 15,
>>>>>>> 10740d50db91de12811081a3f1573562ecf0524c
   "metadata": {
    "vscode": {
     "languageId": "r"
    }
   },
   "outputs": [
    {
     "data": {
      "text/html": [
       "<ol class=list-inline>\n",
       "\t<li>'age'</li>\n",
       "\t<li>'workclass'</li>\n",
       "\t<li>'fnlwgt'</li>\n",
       "\t<li>'education'</li>\n",
       "\t<li>'education.num'</li>\n",
       "\t<li>'marital.status'</li>\n",
       "\t<li>'occupation'</li>\n",
       "\t<li>'relationship'</li>\n",
       "\t<li>'race'</li>\n",
       "\t<li>'sex'</li>\n",
       "\t<li>'capital.gain'</li>\n",
       "\t<li>'capital.loss'</li>\n",
       "\t<li>'hours.per.week'</li>\n",
       "\t<li>'native.country'</li>\n",
       "\t<li>'income'</li>\n",
       "</ol>\n"
      ],
      "text/latex": [
       "\\begin{enumerate*}\n",
       "\\item 'age'\n",
       "\\item 'workclass'\n",
       "\\item 'fnlwgt'\n",
       "\\item 'education'\n",
       "\\item 'education.num'\n",
       "\\item 'marital.status'\n",
       "\\item 'occupation'\n",
       "\\item 'relationship'\n",
       "\\item 'race'\n",
       "\\item 'sex'\n",
       "\\item 'capital.gain'\n",
       "\\item 'capital.loss'\n",
       "\\item 'hours.per.week'\n",
       "\\item 'native.country'\n",
       "\\item 'income'\n",
       "\\end{enumerate*}\n"
      ],
      "text/markdown": [
       "1. 'age'\n",
       "2. 'workclass'\n",
       "3. 'fnlwgt'\n",
       "4. 'education'\n",
       "5. 'education.num'\n",
       "6. 'marital.status'\n",
       "7. 'occupation'\n",
       "8. 'relationship'\n",
       "9. 'race'\n",
       "10. 'sex'\n",
       "11. 'capital.gain'\n",
       "12. 'capital.loss'\n",
       "13. 'hours.per.week'\n",
       "14. 'native.country'\n",
       "15. 'income'\n",
       "\n",
       "\n"
      ],
      "text/plain": [
       " [1] \"age\"            \"workclass\"      \"fnlwgt\"         \"education\"     \n",
       " [5] \"education.num\"  \"marital.status\" \"occupation\"     \"relationship\"  \n",
       " [9] \"race\"           \"sex\"            \"capital.gain\"   \"capital.loss\"  \n",
       "[13] \"hours.per.week\" \"native.country\" \"income\"        "
      ]
     },
     "metadata": {},
     "output_type": "display_data"
    }
   ],
   "source": [
    "#affichage de tous les noms de colonnes\n",
    "colnames(myData)"
   ]
  },
  {
   "cell_type": "markdown",
   "metadata": {},
   "source": [
    "Affichage d'un resumer des datas"
   ]
  },
  {
   "cell_type": "code",
   "execution_count": 110,
   "metadata": {
    "vscode": {
     "languageId": "r"
    }
   },
   "outputs": [
    {
     "data": {
      "text/plain": [
       "      age                    workclass         fnlwgt       \n",
       " Min.   :17.00    Private         :22696   Min.   :  12285  \n",
       " 1st Qu.:28.00    Self-emp-not-inc: 2541   1st Qu.: 117827  \n",
       " Median :37.00    Local-gov       : 2093   Median : 178356  \n",
       " Mean   :38.58    ?               : 1836   Mean   : 189778  \n",
       " 3rd Qu.:48.00    State-gov       : 1298   3rd Qu.: 237051  \n",
       " Max.   :90.00    Self-emp-inc    : 1116   Max.   :1484705  \n",
       "                 (Other)          :  981                    \n",
       "         education     education.num                  marital.status \n",
       "  HS-grad     :10501   Min.   : 1.00    Divorced             : 4443  \n",
       "  Some-college: 7291   1st Qu.: 9.00    Married-AF-spouse    :   23  \n",
       "  Bachelors   : 5355   Median :10.00    Married-civ-spouse   :14976  \n",
       "  Masters     : 1723   Mean   :10.08    Married-spouse-absent:  418  \n",
       "  Assoc-voc   : 1382   3rd Qu.:12.00    Never-married        :10683  \n",
       "  11th        : 1175   Max.   :16.00    Separated            : 1025  \n",
       " (Other)      : 5134                    Widowed              :  993  \n",
       "            occupation            relationship                    race      \n",
       "  Prof-specialty :4140    Husband       :13193    Amer-Indian-Eskimo:  311  \n",
       "  Craft-repair   :4099    Not-in-family : 8305    Asian-Pac-Islander: 1039  \n",
       "  Exec-managerial:4066    Other-relative:  981    Black             : 3124  \n",
       "  Adm-clerical   :3770    Own-child     : 5068    Other             :  271  \n",
       "  Sales          :3650    Unmarried     : 3446    White             :27816  \n",
       "  Other-service  :3295    Wife          : 1568                              \n",
       " (Other)         :9541                                                      \n",
       "      sex         capital.gain    capital.loss    hours.per.week \n",
       "  Female:10771   Min.   :    0   Min.   :   0.0   Min.   : 1.00  \n",
       "  Male  :21790   1st Qu.:    0   1st Qu.:   0.0   1st Qu.:40.00  \n",
       "                 Median :    0   Median :   0.0   Median :40.00  \n",
       "                 Mean   : 1078   Mean   :  87.3   Mean   :40.44  \n",
       "                 3rd Qu.:    0   3rd Qu.:   0.0   3rd Qu.:45.00  \n",
       "                 Max.   :99999   Max.   :4356.0   Max.   :99.00  \n",
       "                                                                 \n",
       "        native.country    income     \n",
       "  United-States:29170   <=50K:24720  \n",
       "  Mexico       :  643   >50K : 7841  \n",
       "  ?            :  583                \n",
       "  Philippines  :  198                \n",
       "  Germany      :  137                \n",
       "  Canada       :  121                \n",
       " (Other)       : 1709                "
      ]
     },
     "metadata": {},
     "output_type": "display_data"
    }
   ],
   "source": [
    "summary(myData)"
   ]
  },
  {
   "cell_type": "markdown",
   "metadata": {},
   "source": [
    "# Etape 2: Choix des attribues qualitatifs ayant un impact sur le revenu\n",
    "###  for sure :Work class / education / occupation / specialty\n",
    "### to check: native country  / race / sex"
   ]
  },
  {
   "cell_type": "markdown",
   "metadata": {},
   "source": [
    "## workclass"
   ]
  },
  {
   "cell_type": "code",
   "execution_count": 128,
   "metadata": {
    "vscode": {
     "languageId": "r"
    }
   },
   "outputs": [
    {
     "data": {
      "text/plain": [
       "                   income\n",
       "workclass           <=50K  >50K\n",
       "   ?                 1645   191\n",
       "   Federal-gov        589   371\n",
       "   Local-gov         1476   617\n",
       "   Never-worked         7     0\n",
       "   Private          17733  4963\n",
       "   Self-emp-inc       494   622\n",
       "   Self-emp-not-inc  1817   724\n",
       "   State-gov          945   353\n",
       "   Without-pay         14     0"
      ]
     },
     "metadata": {},
     "output_type": "display_data"
    },
    {
     "data": {
      "image/png": "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",
      "text/plain": [
       "Plot with title \"P(workclass)\""
      ]
     },
     "metadata": {},
     "output_type": "display_data"
    },
    {
     "data": {
      "image/png": "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",
      "text/plain": [
       "Plot with title \"P(income|workclass)\""
      ]
     },
     "metadata": {},
     "output_type": "display_data"
    }
   ],
   "source": [
    "# dev.size()  # Affiche la taille actuelle de la fenêtre graphique\n",
    "par(mar = c(6, 6, 6, 6)) # Ajuste les marges de la fenêtre graphique\n",
    "table(myData[, c(2, 15)])\n",
    "nbworkclass <- length(unique(myData$workclass))\n",
    "\n",
    "barplot((table(myData[, c(2)])), main = \"P(workclass)\", legend = TRUE, beside = FALSE, col = rainbow(nbworkclass), las = 2)\n",
    "barplot(t(prop.table(table(myData[, c(2, 15)]), 1)), main = \"P(income|workclass)\", legend = TRUE, beside = FALSE, col = rainbow(nbworkclass), las = 2)\n"
   ]
  },
  {
   "cell_type": "markdown",
   "metadata": {},
   "source": []
  },
  {
   "cell_type": "markdown",
   "metadata": {},
   "source": [
    "## Education"
   ]
  },
  {
   "cell_type": "code",
   "execution_count": null,
   "metadata": {
    "vscode": {
     "languageId": "r"
    }
   },
   "outputs": [
    {
     "data": {
      "text/plain": [
       "               income\n",
       "education       <=50K >50K\n",
       "   10th           871   62\n",
       "   11th          1115   60\n",
       "   12th           400   33\n",
       "   1st-4th        162    6\n",
       "   5th-6th        317   16\n",
       "   7th-8th        606   40\n",
       "   9th            487   27\n",
       "   Assoc-acdm     802  265\n",
       "   Assoc-voc     1021  361\n",
       "   Bachelors     3134 2221\n",
       "   Doctorate      107  306\n",
       "   HS-grad       8826 1675\n",
       "   Masters        764  959\n",
       "   Preschool       51    0\n",
       "   Prof-school    153  423\n",
       "   Some-college  5904 1387"
      ]
     },
     "metadata": {},
     "output_type": "display_data"
    },
    {
     "data": {
      "image/png": "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",
      "text/plain": [
       "Plot with title \"P(workclass)\""
      ]
     },
     "metadata": {},
     "output_type": "display_data"
    },
    {
     "data": {
      "image/png": "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",
      "text/plain": [
       "Plot with title \"P(income|workclass)\""
      ]
     },
     "metadata": {},
     "output_type": "display_data"
    }
   ],
   "source": [
    "nbeducation <- length(unique(myData$education))\n",
    "table(myData[, c(4, 15)])\n",
    "\n",
    "\n",
    "barplot((table(myData[, c(4)])), main = \"P(workclass)\", legend = F, beside = FALSE, col = rainbow(nbeducation), las = 2)\n",
    "barplot(t(prop.table(table(myData[, c(4, 15)]), 1)), main = \"P(income|workclass)\", legend = TRUE, beside = FALSE, col = rainbow(nbeducation), las = 2)\n"
   ]
  }
 ],
 "metadata": {
  "kernelspec": {
   "display_name": "R [conda env:r-conda]",
   "language": "R",
   "name": "conda-env-r-conda-r"
  },
  "language_info": {
   "codemirror_mode": "r",
   "file_extension": ".r",
   "mimetype": "text/x-r-source",
   "name": "R",
   "pygments_lexer": "r",
   "version": "3.6.1"
  }
 },
 "nbformat": 4,
 "nbformat_minor": 4
}
