{
 "cells": [
  {
   "cell_type": "markdown",
   "metadata": {},
   "source": [
    "# Étape 1 : recuperation des données"
   ]
  },
  {
   "cell_type": "code",
   "execution_count": 61,
   "metadata": {
    "vscode": {
     "languageId": "r"
    }
   },
   "outputs": [],
   "source": [
    "\n",
    "\n",
    "#move to your working directory, ideally data and jupyter-notebook should be there\n",
    "#setwd(\"C:/Users/thiba/OneDrive - HESSO/Annee_3/Semestre2/DataMining/TP1\")\n",
    "#check whether we moved there\n",
    "#getwd()\n",
    "\n",
    "#read the titanic data\n",
    "myData <- read.table (file=\"adult.csv\",sep=\",\", header=T)"
   ]
  },
  {
   "cell_type": "markdown",
   "metadata": {},
   "source": [
    "Affichage des collones du fichier"
   ]
  },
  {
   "cell_type": "code",
   "execution_count": null,
   "metadata": {
    "vscode": {
     "languageId": "r"
    }
   },
   "outputs": [
    {
     "data": {
      "text/html": [
       "<ol class=list-inline>\n",
       "\t<li>'age'</li>\n",
       "\t<li>'workclass'</li>\n",
       "\t<li>'fnlwgt'</li>\n",
       "\t<li>'education'</li>\n",
       "\t<li>'education.num'</li>\n",
       "\t<li>'marital.status'</li>\n",
       "\t<li>'occupation'</li>\n",
       "\t<li>'relationship'</li>\n",
       "\t<li>'race'</li>\n",
       "\t<li>'sex'</li>\n",
       "\t<li>'capital.gain'</li>\n",
       "\t<li>'capital.loss'</li>\n",
       "\t<li>'hours.per.week'</li>\n",
       "\t<li>'native.country'</li>\n",
       "\t<li>'income'</li>\n",
       "</ol>\n"
      ],
      "text/latex": [
       "\\begin{enumerate*}\n",
       "\\item 'age'\n",
       "\\item 'workclass'\n",
       "\\item 'fnlwgt'\n",
       "\\item 'education'\n",
       "\\item 'education.num'\n",
       "\\item 'marital.status'\n",
       "\\item 'occupation'\n",
       "\\item 'relationship'\n",
       "\\item 'race'\n",
       "\\item 'sex'\n",
       "\\item 'capital.gain'\n",
       "\\item 'capital.loss'\n",
       "\\item 'hours.per.week'\n",
       "\\item 'native.country'\n",
       "\\item 'income'\n",
       "\\end{enumerate*}\n"
      ],
      "text/markdown": [
       "1. 'age'\n",
       "2. 'workclass'\n",
       "3. 'fnlwgt'\n",
       "4. 'education'\n",
       "5. 'education.num'\n",
       "6. 'marital.status'\n",
       "7. 'occupation'\n",
       "8. 'relationship'\n",
       "9. 'race'\n",
       "10. 'sex'\n",
       "11. 'capital.gain'\n",
       "12. 'capital.loss'\n",
       "13. 'hours.per.week'\n",
       "14. 'native.country'\n",
       "15. 'income'\n",
       "\n",
       "\n"
      ],
      "text/plain": [
       " [1] \"age\"            \"workclass\"      \"fnlwgt\"         \"education\"     \n",
       " [5] \"education.num\"  \"marital.status\" \"occupation\"     \"relationship\"  \n",
       " [9] \"race\"           \"sex\"            \"capital.gain\"   \"capital.loss\"  \n",
       "[13] \"hours.per.week\" \"native.country\" \"income\"        "
      ]
     },
     "metadata": {},
     "output_type": "display_data"
    }
   ],
   "source": [
    "#affichage de tous les noms de colonnes\n",
    "colnames(myData)"
   ]
  },
  {
   "cell_type": "markdown",
   "metadata": {},
   "source": [
    "Affichage d'un resumer des datas"
   ]
  },
  {
   "cell_type": "code",
   "execution_count": 63,
   "metadata": {
    "vscode": {
     "languageId": "r"
    }
   },
   "outputs": [
    {
     "data": {
      "text/plain": [
       "      age                    workclass         fnlwgt       \n",
       " Min.   :17.00    Private         :22696   Min.   :  12285  \n",
       " 1st Qu.:28.00    Self-emp-not-inc: 2541   1st Qu.: 117827  \n",
       " Median :37.00    Local-gov       : 2093   Median : 178356  \n",
       " Mean   :38.58    ?               : 1836   Mean   : 189778  \n",
       " 3rd Qu.:48.00    State-gov       : 1298   3rd Qu.: 237051  \n",
       " Max.   :90.00    Self-emp-inc    : 1116   Max.   :1484705  \n",
       "                 (Other)          :  981                    \n",
       "         education     education.num                  marital.status \n",
       "  HS-grad     :10501   Min.   : 1.00    Divorced             : 4443  \n",
       "  Some-college: 7291   1st Qu.: 9.00    Married-AF-spouse    :   23  \n",
       "  Bachelors   : 5355   Median :10.00    Married-civ-spouse   :14976  \n",
       "  Masters     : 1723   Mean   :10.08    Married-spouse-absent:  418  \n",
       "  Assoc-voc   : 1382   3rd Qu.:12.00    Never-married        :10683  \n",
       "  11th        : 1175   Max.   :16.00    Separated            : 1025  \n",
       " (Other)      : 5134                    Widowed              :  993  \n",
       "            occupation            relationship                    race      \n",
       "  Prof-specialty :4140    Husband       :13193    Amer-Indian-Eskimo:  311  \n",
       "  Craft-repair   :4099    Not-in-family : 8305    Asian-Pac-Islander: 1039  \n",
       "  Exec-managerial:4066    Other-relative:  981    Black             : 3124  \n",
       "  Adm-clerical   :3770    Own-child     : 5068    Other             :  271  \n",
       "  Sales          :3650    Unmarried     : 3446    White             :27816  \n",
       "  Other-service  :3295    Wife          : 1568                              \n",
       " (Other)         :9541                                                      \n",
       "      sex         capital.gain    capital.loss    hours.per.week \n",
       "  Female:10771   Min.   :    0   Min.   :   0.0   Min.   : 1.00  \n",
       "  Male  :21790   1st Qu.:    0   1st Qu.:   0.0   1st Qu.:40.00  \n",
       "                 Median :    0   Median :   0.0   Median :40.00  \n",
       "                 Mean   : 1078   Mean   :  87.3   Mean   :40.44  \n",
       "                 3rd Qu.:    0   3rd Qu.:   0.0   3rd Qu.:45.00  \n",
       "                 Max.   :99999   Max.   :4356.0   Max.   :99.00  \n",
       "                                                                 \n",
       "        native.country    income     \n",
       "  United-States:29170   <=50K:24720  \n",
       "  Mexico       :  643   >50K : 7841  \n",
       "  ?            :  583                \n",
       "  Philippines  :  198                \n",
       "  Germany      :  137                \n",
       "  Canada       :  121                \n",
       " (Other)       : 1709                "
      ]
     },
     "metadata": {},
     "output_type": "display_data"
    }
   ],
   "source": [
    "summary(myData)"
   ]
  },
  {
   "cell_type": "markdown",
   "metadata": {},
   "source": [
    "# Etape 2: Choix des attribues qualitatifs ayant un impact sur le revenu\n",
    "###  for sure :Work class / education / occupation / specialty\n",
    "### to check: native country  / race / sex"
   ]
  },
  {
   "cell_type": "markdown",
   "metadata": {},
   "source": [
    "## workclass"
   ]
  },
  {
   "cell_type": "code",
   "execution_count": 64,
   "metadata": {
    "vscode": {
     "languageId": "r"
    }
   },
   "outputs": [
    {
     "data": {
      "text/plain": [
       "                   income\n",
       "workclass           <=50K  >50K\n",
       "   ?                 1645   191\n",
       "   Federal-gov        589   371\n",
       "   Local-gov         1476   617\n",
       "   Never-worked         7     0\n",
       "   Private          17733  4963\n",
       "   Self-emp-inc       494   622\n",
       "   Self-emp-not-inc  1817   724\n",
       "   State-gov          945   353\n",
       "   Without-pay         14     0"
      ]
     },
     "metadata": {},
     "output_type": "display_data"
    },
    {
     "data": {
      "image/png": "[encoded data removed]",
      "text/plain": [
       "plot without title"
      ]
     },
     "metadata": {},
     "output_type": "display_data"
    }
   ],
   "source": [
    "\n",
    "nbworkclass <- length(unique(myData$workclass))\n",
    "table(myData[,c(2,15)])\n",
    "barplot((table(myData[,c(2,15)])),  legend=T,col=rainbow(nbworkclass))\n"
   ]
  }
 ],
 "metadata": {
  "kernelspec": {
   "display_name": "R",
   "language": "R",
   "name": "ir"
  },
  "language_info": {
   "codemirror_mode": "r",
   "file_extension": ".r",
   "mimetype": "text/x-r-source",
   "name": "R",
   "pygments_lexer": "r",
   "version": "3.6.1"
  }
 },
 "nbformat": 4,
 "nbformat_minor": 2
}
