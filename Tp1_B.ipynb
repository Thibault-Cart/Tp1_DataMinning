{
  "cells": [
    {
      "cell_type": "markdown",
      "metadata": {
        "id": "MsSUON2ZZHYv"
      },
      "source": [
        "*texte en italique*# Étape 1 : recuperation des données"
      ]
    },
    {
      "cell_type": "code",
      "execution_count": 1,
      "metadata": {
        "id": "OUQbsbPoZHYz",
        "vscode": {
          "languageId": "r"
        }
      },
      "outputs": [],
      "source": [
        "\n",
        "\n",
        "# Lire les données (avec suppression des espaces inutiles autour des valeurs)\n",
        "myData <- read.table(\"adult.csv\", sep = \",\", header = TRUE, stringsAsFactors = FALSE, strip.white = TRUE)\n",
        "\n"
      ]
    },
    {
      "cell_type": "markdown",
      "metadata": {
        "id": "Mx8qVG25ZHY4"
      },
      "source": [
        "## supression de toute les lignes ayant un ? dedans"
      ]
    },
    {
      "cell_type": "code",
      "execution_count": 2,
      "metadata": {
        "colab": {
          "base_uri": "https://localhost:8080/"
        },
        "id": "mVNPtcS1ZHY5",
        "outputId": "3dba6ea9-797f-414a-8aaa-c27850efcb18",
        "vscode": {
          "languageId": "r"
        }
      },
      "outputs": [
        {
          "name": "stdout",
          "output_type": "stream",
          "text": [
            " Lignes initiales : 32561 \n",
            " Lignes supprimées car contenant un ou plusieurs ? : 2399 \n",
            " Lignes restantes : 30162 \n"
          ]
        }
      ],
      "source": [
        "# Nombre de lignes avant nettoyage\n",
        "initial_rows <- nrow(myData)\n",
        "\n",
        "# Supprimer les lignes contenant au moins un \"?\"\n",
        "rows_with_question <- apply(myData, 1, function(row) any(trimws(row) == \"?\"))\n",
        "myData <- myData[!rows_with_question, ]\n",
        "\n",
        "# Nombre de lignes après nettoyage\n",
        "cleaned_rows <- nrow(myData)\n",
        "\n",
        "# Résumé\n",
        "cat(\" Lignes initiales :\", initial_rows, \"\\n\")\n",
        "cat(\" Lignes supprimées car contenant un ou plusieurs ? :\", initial_rows - cleaned_rows, \"\\n\")\n",
        "cat(\" Lignes restantes :\", cleaned_rows, \"\\n\")\n",
        "\n"
      ]
    },
    {
      "cell_type": "markdown",
      "metadata": {
        "id": "6NAeFGdQZHY_"
      },
      "source": [
        "Affichage des colones du fichier"
      ]
    },
    {
      "cell_type": "code",
      "execution_count": 3,
      "metadata": {
        "colab": {
          "base_uri": "https://localhost:8080/",
          "height": 34
        },
        "id": "WXZO5xt9ZHZA",
        "outputId": "30a9c394-0d6d-45eb-c84c-c664ce3fc688",
        "vscode": {
          "languageId": "r"
        }
      },
      "outputs": [
        {
          "data": {
            "text/html": [
              "<style>\n",
              ".list-inline {list-style: none; margin:0; padding: 0}\n",
              ".list-inline>li {display: inline-block}\n",
              ".list-inline>li:not(:last-child)::after {content: \"\\00b7\"; padding: 0 .5ex}\n",
              "</style>\n",
              "<ol class=list-inline><li>'age'</li><li>'workclass'</li><li>'fnlwgt'</li><li>'education'</li><li>'education.num'</li><li>'marital.status'</li><li>'occupation'</li><li>'relationship'</li><li>'race'</li><li>'sex'</li><li>'capital.gain'</li><li>'capital.loss'</li><li>'hours.per.week'</li><li>'native.country'</li><li>'income'</li></ol>\n"
            ],
            "text/latex": [
              "\\begin{enumerate*}\n",
              "\\item 'age'\n",
              "\\item 'workclass'\n",
              "\\item 'fnlwgt'\n",
              "\\item 'education'\n",
              "\\item 'education.num'\n",
              "\\item 'marital.status'\n",
              "\\item 'occupation'\n",
              "\\item 'relationship'\n",
              "\\item 'race'\n",
              "\\item 'sex'\n",
              "\\item 'capital.gain'\n",
              "\\item 'capital.loss'\n",
              "\\item 'hours.per.week'\n",
              "\\item 'native.country'\n",
              "\\item 'income'\n",
              "\\end{enumerate*}\n"
            ],
            "text/markdown": [
              "1. 'age'\n",
              "2. 'workclass'\n",
              "3. 'fnlwgt'\n",
              "4. 'education'\n",
              "5. 'education.num'\n",
              "6. 'marital.status'\n",
              "7. 'occupation'\n",
              "8. 'relationship'\n",
              "9. 'race'\n",
              "10. 'sex'\n",
              "11. 'capital.gain'\n",
              "12. 'capital.loss'\n",
              "13. 'hours.per.week'\n",
              "14. 'native.country'\n",
              "15. 'income'\n",
              "\n",
              "\n"
            ],
            "text/plain": [
              " [1] \"age\"            \"workclass\"      \"fnlwgt\"         \"education\"     \n",
              " [5] \"education.num\"  \"marital.status\" \"occupation\"     \"relationship\"  \n",
              " [9] \"race\"           \"sex\"            \"capital.gain\"   \"capital.loss\"  \n",
              "[13] \"hours.per.week\" \"native.country\" \"income\"        "
            ]
          },
          "metadata": {},
          "output_type": "display_data"
        }
      ],
      "source": [
        "#affichage de tous les noms de colonnes\n",
        "colnames(myData)\n"
      ]
    },
    {
      "cell_type": "markdown",
      "metadata": {
        "id": "FFzf3KqsZHZB"
      },
      "source": [
        "Affichage d'un resumer des datas"
      ]
    },
    {
      "cell_type": "code",
      "execution_count": 4,
      "metadata": {
        "colab": {
          "base_uri": "https://localhost:8080/",
          "height": 503
        },
        "id": "gqZX9aJ9ZHZB",
        "outputId": "ef5689c7-81f0-43c5-c512-89cd63ed63b7",
        "vscode": {
          "languageId": "r"
        }
      },
      "outputs": [
        {
          "data": {
            "text/plain": [
              "      age         workclass             fnlwgt         education        \n",
              " Min.   :17.00   Length:30162       Min.   :  13769   Length:30162      \n",
              " 1st Qu.:28.00   Class :character   1st Qu.: 117627   Class :character  \n",
              " Median :37.00   Mode  :character   Median : 178425   Mode  :character  \n",
              " Mean   :38.44                      Mean   : 189794                     \n",
              " 3rd Qu.:47.00                      3rd Qu.: 237629                     \n",
              " Max.   :90.00                      Max.   :1484705                     \n",
              " education.num   marital.status      occupation        relationship      \n",
              " Min.   : 1.00   Length:30162       Length:30162       Length:30162      \n",
              " 1st Qu.: 9.00   Class :character   Class :character   Class :character  \n",
              " Median :10.00   Mode  :character   Mode  :character   Mode  :character  \n",
              " Mean   :10.12                                                           \n",
              " 3rd Qu.:13.00                                                           \n",
              " Max.   :16.00                                                           \n",
              "     race               sex             capital.gain    capital.loss    \n",
              " Length:30162       Length:30162       Min.   :    0   Min.   :   0.00  \n",
              " Class :character   Class :character   1st Qu.:    0   1st Qu.:   0.00  \n",
              " Mode  :character   Mode  :character   Median :    0   Median :   0.00  \n",
              "                                       Mean   : 1092   Mean   :  88.37  \n",
              "                                       3rd Qu.:    0   3rd Qu.:   0.00  \n",
              "                                       Max.   :99999   Max.   :4356.00  \n",
              " hours.per.week  native.country        income         \n",
              " Min.   : 1.00   Length:30162       Length:30162      \n",
              " 1st Qu.:40.00   Class :character   Class :character  \n",
              " Median :40.00   Mode  :character   Mode  :character  \n",
              " Mean   :40.93                                        \n",
              " 3rd Qu.:45.00                                        \n",
              " Max.   :99.00                                        "
            ]
          },
          "metadata": {},
          "output_type": "display_data"
        }
      ],
      "source": [
        "summary(myData)"
      ]
    },
    {
      "cell_type": "markdown",
      "metadata": {
        "id": "qdc92LMSZHZC"
      },
      "source": [
        "# TP1 A : ANALYSE QUALITATIVE\n",
        "###  for sure :Work class / education / occupation / specialty\n",
        "### to check: native country  / race / sex"
      ]
    },
    {
      "cell_type": "markdown",
      "metadata": {
        "id": "wV5LBQcqZHZD"
      },
      "source": [
        "### setup des marges et de la police pour des graphiques plus lisibles"
      ]
    },
    {
      "cell_type": "code",
      "execution_count": 5,
      "metadata": {
        "id": "uBTAQg6mZHZE",
        "vscode": {
          "languageId": "r"
        }
      },
      "outputs": [],
      "source": [
        "\n",
        "#par(mar = c(6, 6, 6, 6),cex.names = 0.01) # Ajuste les marges de la fenêtre graphique et la taille de police des champs\n",
        "par(mar = c(8, 8, 6, 6),  cex.axis = 0.1)  # Augmenter les marges et ajuster la taille de la police\n"
      ]
    },
    {
      "cell_type": "markdown",
      "metadata": {
        "id": "Sj6Y-dNBZHZF"
      },
      "source": [
        "## workclass"
      ]
    },
    {
      "cell_type": "code",
      "execution_count": 6,
      "metadata": {
        "colab": {
          "base_uri": "https://localhost:8080/"
        },
        "id": "k7OVbYXyZHZF",
        "outputId": "c8ac2ab8-b7e4-4ae7-bd80-34a82c845fe5",
        "vscode": {
          "languageId": "r"
        }
      },
      "outputs": [
        {
          "data": {
            "text/plain": [
              "                  income\n",
              "workclass          <=50K  >50K\n",
              "  Federal-gov        578   365\n",
              "  Local-gov         1458   609\n",
              "  Private          17410  4876\n",
              "  Self-emp-inc       474   600\n",
              "  Self-emp-not-inc  1785   714\n",
              "  State-gov          935   344\n",
              "  Without-pay         14     0"
            ]
          },
          "metadata": {},
          "output_type": "display_data"
        },
        {
          "data": {
            "image/png": "[encoded data removed]",
            "text/plain": [
              "Plot with title \"P(workclass)\""
            ]
          },
          "metadata": {
            "image/png": {
              "height": 420,
              "width": 420
            }
          },
          "output_type": "display_data"
        },
        {
          "data": {
            "image/png": "[encoded data removed]",
            "text/plain": [
              "Plot with title \"P(income|workclass)\""
            ]
          },
          "metadata": {
            "image/png": {
              "height": 420,
              "width": 420
            }
          },
          "output_type": "display_data"
        }
      ],
      "source": [
        "\n",
        "table(myData[, c(2, 15)])\n",
        "\n",
        "\n",
        "barplot(prop.table(table(myData[, c(2)])), main = \"P(workclass)\", legend = F, beside = FALSE,  las = 2,ylim = c(0,1))\n",
        "barplot(t(prop.table(table(myData[, c(2, 15)]), 1)), main = \"P(income|workclass)\", legend = TRUE, beside = FALSE, las = 2)\n"
      ]
    },
    {
      "cell_type": "markdown",
      "metadata": {
        "id": "6CLwSVyNZHZG"
      },
      "source": []
    },
    {
      "cell_type": "markdown",
      "metadata": {
        "id": "pTyPTy67ZHZH"
      },
      "source": [
        "## Education"
      ]
    },
    {
      "cell_type": "code",
      "execution_count": 7,
      "metadata": {
        "colab": {
          "base_uri": "https://localhost:8080/"
        },
        "id": "QyHKS_7wZHZH",
        "outputId": "d79587b7-1d4b-4aff-e60f-b4cec881f01b",
        "vscode": {
          "languageId": "r"
        }
      },
      "outputs": [
        {
          "data": {
            "text/plain": [
              "              income\n",
              "education      <=50K >50K\n",
              "  10th           761   59\n",
              "  11th           989   59\n",
              "  12th           348   29\n",
              "  1st-4th        145    6\n",
              "  5th-6th        276   12\n",
              "  7th-8th        522   35\n",
              "  9th            430   25\n",
              "  Assoc-acdm     752  256\n",
              "  Assoc-voc      963  344\n",
              "  Bachelors     2918 2126\n",
              "  Doctorate       95  280\n",
              "  HS-grad       8223 1617\n",
              "  Masters        709  918\n",
              "  Preschool       45    0\n",
              "  Prof-school    136  406\n",
              "  Some-college  5342 1336"
            ]
          },
          "metadata": {},
          "output_type": "display_data"
        },
        {
          "data": {
            "image/png": "[encoded data removed]",
            "text/plain": [
              "Plot with title \"P(education)\""
            ]
          },
          "metadata": {
            "image/png": {
              "height": 420,
              "width": 420
            }
          },
          "output_type": "display_data"
        },
        {
          "data": {
            "image/png": "[encoded data removed]",
            "text/plain": [
              "Plot with title \"P(income|education)\""
            ]
          },
          "metadata": {
            "image/png": {
              "height": 420,
              "width": 420
            }
          },
          "output_type": "display_data"
        }
      ],
      "source": [
        "table(myData[, c(4, 15)])\n",
        "\n",
        "\n",
        "barplot(prop.table(table(myData[, c(4)])), main = \"P(education)\", legend = F, beside = FALSE, las = 2,ylim = c(0,1))\n",
        "barplot(t(prop.table(table(myData[, c(4, 15)]), 1)), main = \"P(income|education)\", legend = TRUE, beside = FALSE,  las = 2)\n"
      ]
    },
    {
      "cell_type": "markdown",
      "metadata": {
        "id": "NMNFsvwyZHZI"
      },
      "source": [
        "## Occupation"
      ]
    },
    {
      "cell_type": "code",
      "execution_count": 8,
      "metadata": {
        "colab": {
          "base_uri": "https://localhost:8080/"
        },
        "id": "a_qZoAjMZHZJ",
        "outputId": "2074ee30-f907-4468-8470-96960d74c234",
        "vscode": {
          "languageId": "r"
        }
      },
      "outputs": [
        {
          "data": {
            "text/plain": [
              "                   income\n",
              "occupation          <=50K >50K\n",
              "  Adm-clerical       3223  498\n",
              "  Armed-Forces          8    1\n",
              "  Craft-repair       3122  908\n",
              "  Exec-managerial    2055 1937\n",
              "  Farming-fishing     874  115\n",
              "  Handlers-cleaners  1267   83\n",
              "  Machine-op-inspct  1721  245\n",
              "  Other-service      3080  132\n",
              "  Priv-house-serv     142    1\n",
              "  Prof-specialty     2227 1811\n",
              "  Protective-serv     434  210\n",
              "  Sales              2614  970\n",
              "  Tech-support        634  278\n",
              "  Transport-moving   1253  319"
            ]
          },
          "metadata": {},
          "output_type": "display_data"
        },
        {
          "data": {
            "text/plain": [
              "\n",
              "     Adm-clerical      Armed-Forces      Craft-repair   Exec-managerial \n",
              "     0.1233671507      0.0002983887      0.1336118295      0.1323519660 \n",
              "  Farming-fishing Handlers-cleaners Machine-op-inspct     Other-service \n",
              "     0.0327896028      0.0447583052      0.0651813540      0.1064916120 \n",
              "  Priv-house-serv    Prof-specialty   Protective-serv             Sales \n",
              "     0.0047410649      0.1338770639      0.0213513693      0.1188250116 \n",
              "     Tech-support  Transport-moving \n",
              "     0.0302367217      0.0521185598 "
            ]
          },
          "metadata": {},
          "output_type": "display_data"
        },
        {
          "data": {
            "image/png": "[encoded data removed]",
            "text/plain": [
              "Plot with title \"P(occupation)\""
            ]
          },
          "metadata": {
            "image/png": {
              "height": 420,
              "width": 420
            }
          },
          "output_type": "display_data"
        },
        {
          "data": {
            "image/png": "[encoded data removed]",
            "text/plain": [
              "Plot with title \"P(income|occupation)\""
            ]
          },
          "metadata": {
            "image/png": {
              "height": 420,
              "width": 420
            }
          },
          "output_type": "display_data"
        }
      ],
      "source": [
        "table(myData[, c(7, 15)])\n",
        "prop.table(table(myData[, c(7)]))\n",
        "\n",
        "\n",
        "barplot(prop.table(table(myData[, c(7)])), main = \"P(occupation)\", legend = F, beside = FALSE, las = 2,ylim = c(0,0.5))\n",
        "barplot(t(prop.table(table(myData[, c(7, 15)]), 1)), main = \"P(income|occupation)\", legend = TRUE, beside = FALSE,  las = 2)\n"
      ]
    },
    {
      "cell_type": "markdown",
      "metadata": {
        "id": "X0xJ8cBTZHZJ"
      },
      "source": [
        "## Native country"
      ]
    },
    {
      "cell_type": "code",
      "execution_count": 9,
      "metadata": {
        "colab": {
          "base_uri": "https://localhost:8080/"
        },
        "id": "WgO4A7BoZHZK",
        "outputId": "f8f476ad-2f3d-482f-d906-cc0caf403b99",
        "vscode": {
          "languageId": "r"
        }
      },
      "outputs": [
        {
          "data": {
            "text/plain": [
              "                            income\n",
              "native.country               <=50K  >50K\n",
              "  Cambodia                      11     7\n",
              "  Canada                        71    36\n",
              "  China                         48    20\n",
              "  Columbia                      54     2\n",
              "  Cuba                          67    25\n",
              "  Dominican-Republic            65     2\n",
              "  Ecuador                       23     4\n",
              "  El-Salvador                   91     9\n",
              "  England                       56    30\n",
              "  France                        15    12\n",
              "  Germany                       84    44\n",
              "  Greece                        21     8\n",
              "  Guatemala                     60     3\n",
              "  Haiti                         38     4\n",
              "  Holand-Netherlands             1     0\n",
              "  Honduras                      11     1\n",
              "  Hong                          13     6\n",
              "  Hungary                       10     3\n",
              "  India                         60    40\n",
              "  Iran                          24    18\n",
              "  Ireland                       19     5\n",
              "  Italy                         44    24\n",
              "  Jamaica                       70    10\n",
              "  Japan                         36    23\n",
              "  Laos                          15     2\n",
              "  Mexico                       577    33\n",
              "  Nicaragua                     31     2\n",
              "  Outlying-US(Guam-USVI-etc)    14     0\n",
              "  Peru                          28     2\n",
              "  Philippines                  128    60\n",
              "  Poland                        45    11\n",
              "  Portugal                      30     4\n",
              "  Puerto-Rico                   97    12\n",
              "  Scotland                       9     2\n",
              "  South                         57    14\n",
              "  Taiwan                        23    19\n",
              "  Thailand                      14     3\n",
              "  Trinadad&Tobago               16     2\n",
              "  United-States              20509  6995\n",
              "  Vietnam                       59     5\n",
              "  Yugoslavia                    10     6"
            ]
          },
          "metadata": {},
          "output_type": "display_data"
        },
        {
          "data": {
            "text/plain": [
              "\n",
              "                  Cambodia                     Canada \n",
              "              0.0005967774               0.0035475101 \n",
              "                     China                   Columbia \n",
              "              0.0022544924               0.0018566408 \n",
              "                      Cuba         Dominican-Republic \n",
              "              0.0030501956               0.0022213381 \n",
              "                   Ecuador                El-Salvador \n",
              "              0.0008951661               0.0033154300 \n",
              "                   England                     France \n",
              "              0.0028512698               0.0008951661 \n",
              "                   Germany                     Greece \n",
              "              0.0042437504               0.0009614747 \n",
              "                 Guatemala                      Haiti \n",
              "              0.0020887209               0.0013924806 \n",
              "        Holand-Netherlands                   Honduras \n",
              "              0.0000331543               0.0003978516 \n",
              "                      Hong                    Hungary \n",
              "              0.0006299317               0.0004310059 \n",
              "                     India                       Iran \n",
              "              0.0033154300               0.0013924806 \n",
              "                   Ireland                      Italy \n",
              "              0.0007957032               0.0022544924 \n",
              "                   Jamaica                      Japan \n",
              "              0.0026523440               0.0019561037 \n",
              "                      Laos                     Mexico \n",
              "              0.0005636231               0.0202241231 \n",
              "                 Nicaragua Outlying-US(Guam-USVI-etc) \n",
              "              0.0010940919               0.0004641602 \n",
              "                      Peru                Philippines \n",
              "              0.0009946290               0.0062330084 \n",
              "                    Poland                   Portugal \n",
              "              0.0018566408               0.0011272462 \n",
              "               Puerto-Rico                   Scotland \n",
              "              0.0036138187               0.0003646973 \n",
              "                     South                     Taiwan \n",
              "              0.0023539553               0.0013924806 \n",
              "                  Thailand            Trinadad&Tobago \n",
              "              0.0005636231               0.0005967774 \n",
              "             United-States                    Vietnam \n",
              "              0.9118758703               0.0021218752 \n",
              "                Yugoslavia \n",
              "              0.0005304688 "
            ]
          },
          "metadata": {},
          "output_type": "display_data"
        },
        {
          "data": {
            "image/png": "[encoded data removed]",
            "text/plain": [
              "Plot with title \"P(Native country)\""
            ]
          },
          "metadata": {
            "image/png": {
              "height": 420,
              "width": 420
            }
          },
          "output_type": "display_data"
        },
        {
          "data": {
            "image/png": "[encoded data removed]",
            "text/plain": [
              "Plot with title \"P(income|Native country)\""
            ]
          },
          "metadata": {
            "image/png": {
              "height": 420,
              "width": 420
            }
          },
          "output_type": "display_data"
        }
      ],
      "source": [
        "table(myData[, c(14, 15)])\n",
        "prop.table(table(myData[, c(14)]))\n",
        "\n",
        "\n",
        "barplot(prop.table(table(myData[, c(14)])), main = \"P(Native country)\", legend = F, beside = FALSE, las = 2,ylim = c(0,1))\n",
        "barplot(t(prop.table(table(myData[, c(14, 15)]), 1)), main = \"P(income|Native country)\", legend = TRUE, beside = FALSE,  las = 2)\n"
      ]
    },
    {
      "cell_type": "markdown",
      "metadata": {
        "id": "HNUPr3AVZHZL"
      },
      "source": [
        "## Marital status"
      ]
    },
    {
      "cell_type": "code",
      "execution_count": 10,
      "metadata": {
        "colab": {
          "base_uri": "https://localhost:8080/"
        },
        "id": "thsM1cfbZHZM",
        "outputId": "69a83c5f-a235-4fcd-c133-6e6033a8b279",
        "vscode": {
          "languageId": "r"
        }
      },
      "outputs": [
        {
          "data": {
            "text/plain": [
              "                       income\n",
              "marital.status          <=50K >50K\n",
              "  Divorced               3762  452\n",
              "  Married-AF-spouse        11   10\n",
              "  Married-civ-spouse     7666 6399\n",
              "  Married-spouse-absent   339   31\n",
              "  Never-married          9256  470\n",
              "  Separated               873   66\n",
              "  Widowed                 747   80"
            ]
          },
          "metadata": {},
          "output_type": "display_data"
        },
        {
          "data": {
            "text/plain": [
              "\n",
              "             Divorced     Married-AF-spouse    Married-civ-spouse \n",
              "         0.1397122207          0.0006962403          0.4663152311 \n",
              "Married-spouse-absent         Never-married             Separated \n",
              "         0.0122670910          0.3224587229          0.0311318878 \n",
              "              Widowed \n",
              "         0.0274186062 "
            ]
          },
          "metadata": {},
          "output_type": "display_data"
        },
        {
          "data": {
            "image/png": "[encoded data removed]",
            "text/plain": [
              "Plot with title \"P(Marital status)\""
            ]
          },
          "metadata": {
            "image/png": {
              "height": 420,
              "width": 420
            }
          },
          "output_type": "display_data"
        },
        {
          "data": {
            "image/png": "[encoded data removed]",
            "text/plain": [
              "Plot with title \"P(income|Marital status)\""
            ]
          },
          "metadata": {
            "image/png": {
              "height": 420,
              "width": 420
            }
          },
          "output_type": "display_data"
        }
      ],
      "source": [
        "table(myData[, c(6, 15)])\n",
        "prop.table(table(myData[, c(6)]))\n",
        "\n",
        "\n",
        "barplot(prop.table(table(myData[, c(6)])), main = \"P(Marital status)\", legend = F, beside = FALSE, las = 2,ylim = c(0,1))\n",
        "barplot(t(prop.table(table(myData[, c(6, 15)]), 1)), main = \"P(income|Marital status)\", legend = TRUE, beside = FALSE,  las = 2)\n"
      ]
    },
    {
      "cell_type": "markdown",
      "metadata": {
        "id": "1xr_JLzBZHZN"
      },
      "source": [
        "## Relashionship"
      ]
    },
    {
      "cell_type": "code",
      "execution_count": 11,
      "metadata": {
        "colab": {
          "base_uri": "https://localhost:8080/"
        },
        "id": "ZEuwxDZyZHZN",
        "outputId": "af0c402b-45e3-43d3-c020-8f06ed6d48cd",
        "vscode": {
          "languageId": "r"
        }
      },
      "outputs": [
        {
          "data": {
            "text/plain": [
              "                income\n",
              "relationship     <=50K >50K\n",
              "  Husband         6784 5679\n",
              "  Not-in-family   6903  823\n",
              "  Other-relative   854   35\n",
              "  Own-child       4402   64\n",
              "  Unmarried       2999  213\n",
              "  Wife             712  694"
            ]
          },
          "metadata": {},
          "output_type": "display_data"
        },
        {
          "data": {
            "text/plain": [
              "\n",
              "       Husband  Not-in-family Other-relative      Own-child      Unmarried \n",
              "    0.41320204     0.25615012     0.02947417     0.14806710     0.10649161 \n",
              "          Wife \n",
              "    0.04661495 "
            ]
          },
          "metadata": {},
          "output_type": "display_data"
        },
        {
          "data": {
            "image/png": "[encoded data removed]",
            "text/plain": [
              "Plot with title \"P(Relationship)\""
            ]
          },
          "metadata": {
            "image/png": {
              "height": 420,
              "width": 420
            }
          },
          "output_type": "display_data"
        },
        {
          "data": {
            "image/png": "[encoded data removed]",
            "text/plain": [
              "Plot with title \"P(income|Relationship)\""
            ]
          },
          "metadata": {
            "image/png": {
              "height": 420,
              "width": 420
            }
          },
          "output_type": "display_data"
        }
      ],
      "source": [
        "table(myData[, c(8, 15)])\n",
        "prop.table(table(myData[, c(8)]))\n",
        "\n",
        "\n",
        "barplot(prop.table(table(myData[, c(8)])), main = \"P(Relationship)\", legend = F, beside = FALSE, las = 2,ylim = c(0,1))\n",
        "barplot(t(prop.table(table(myData[, c(8, 15)]), 1)), main = \"P(income|Relationship)\", legend = TRUE, beside = FALSE,  las = 2)\n"
      ]
    },
    {
      "cell_type": "markdown",
      "metadata": {
        "id": "NSrMNCPEZHZO"
      },
      "source": [
        "## Race"
      ]
    },
    {
      "cell_type": "code",
      "execution_count": 12,
      "metadata": {
        "colab": {
          "base_uri": "https://localhost:8080/"
        },
        "id": "p47KnRpZZHZP",
        "outputId": "3160239d-e849-446f-bc61-5010f29adb5c",
        "vscode": {
          "languageId": "r"
        }
      },
      "outputs": [
        {
          "data": {
            "text/plain": [
              "                    income\n",
              "race                 <=50K  >50K\n",
              "  Amer-Indian-Eskimo   252    34\n",
              "  Asian-Pac-Islander   647   248\n",
              "  Black               2451   366\n",
              "  Other                210    21\n",
              "  White              19094  6839"
            ]
          },
          "metadata": {},
          "output_type": "display_data"
        },
        {
          "data": {
            "text/plain": [
              "\n",
              "Amer-Indian-Eskimo Asian-Pac-Islander              Black              Other \n",
              "       0.009482130        0.029673099        0.093395663        0.007658643 \n",
              "             White \n",
              "       0.859790465 "
            ]
          },
          "metadata": {},
          "output_type": "display_data"
        },
        {
          "data": {
            "image/png": "[encoded data removed]",
            "text/plain": [
              "Plot with title \"P(Race)\""
            ]
          },
          "metadata": {
            "image/png": {
              "height": 420,
              "width": 420
            }
          },
          "output_type": "display_data"
        },
        {
          "data": {
            "image/png": "[encoded data removed]",
            "text/plain": [
              "Plot with title \"P(income|Race)\""
            ]
          },
          "metadata": {
            "image/png": {
              "height": 420,
              "width": 420
            }
          },
          "output_type": "display_data"
        }
      ],
      "source": [
        "table(myData[, c(9, 15)])\n",
        "prop.table(table(myData[, c(9)]))\n",
        "\n",
        "\n",
        "barplot(prop.table(table(myData[, c(9)])), main = \"P(Race)\", legend = F, beside = FALSE, las = 2,ylim = c(0,1))\n",
        "barplot(t(prop.table(table(myData[, c(9, 15)]), 1)), main = \"P(income|Race)\", legend = TRUE, beside = FALSE,  las = 2)\n"
      ]
    },
    {
      "cell_type": "markdown",
      "metadata": {
        "id": "E1FgojXbZHZQ"
      },
      "source": [
        "## QualitativeAttrsTheory"
      ]
    },
    {
      "cell_type": "code",
      "execution_count": 13,
      "metadata": {
        "colab": {
          "base_uri": "https://localhost:8080/"
        },
        "id": "HjadFJ_wZHZR",
        "outputId": "4b2a9f29-2cac-4213-cce2-d9f9782b578f",
        "vscode": {
          "languageId": "r"
        }
      },
      "outputs": [
        {
          "name": "stdout",
          "output_type": "stream",
          "text": [
            "                   \n",
            "                           <=50K         >50K\n",
            "  Adm-clerical      0.1068563093 0.0165108415\n",
            "  Armed-Forces      0.0002652344 0.0000331543\n",
            "  Craft-repair      0.1035077250 0.0301041045\n",
            "  Exec-managerial   0.0681320867 0.0642198793\n",
            "  Farming-fishing   0.0289768583 0.0038127445\n",
            "  Handlers-cleaners 0.0420064982 0.0027518069\n",
            "  Machine-op-inspct 0.0570585505 0.0081228035\n",
            "  Other-service     0.1021152443 0.0043763676\n",
            "  Priv-house-serv   0.0047079106 0.0000331543\n",
            "  Prof-specialty    0.0738346264 0.0600424375\n",
            "  Protective-serv   0.0143889662 0.0069624030\n",
            "  Sales             0.0866653405 0.0321596711\n",
            "  Tech-support      0.0210198263 0.0092168954\n",
            "  Transport-moving  0.0415423380 0.0105762217\n"
          ]
        }
      ],
      "source": [
        "# Distribution conjointe P(f, y)\n",
        "joint_dist <- prop.table(table(myData[, 7], myData[, 15]))\n",
        "\n",
        "# Afficher la table\n",
        "print(joint_dist)\n"
      ]
    },
    {
      "cell_type": "code",
      "execution_count": 14,
      "metadata": {
        "colab": {
          "base_uri": "https://localhost:8080/"
        },
        "id": "qOV6SizxZHZR",
        "outputId": "02e8e7a1-318d-4443-9369-340292546dcf",
        "vscode": {
          "languageId": "r"
        }
      },
      "outputs": [
        {
          "name": "stdout",
          "output_type": "stream",
          "text": [
            "[1] \"--- P(f) ---\"\n",
            "     Adm-clerical      Armed-Forces      Craft-repair   Exec-managerial \n",
            "     0.1233671507      0.0002983887      0.1336118295      0.1323519660 \n",
            "  Farming-fishing Handlers-cleaners Machine-op-inspct     Other-service \n",
            "     0.0327896028      0.0447583052      0.0651813540      0.1064916120 \n",
            "  Priv-house-serv    Prof-specialty   Protective-serv             Sales \n",
            "     0.0047410649      0.1338770639      0.0213513693      0.1188250116 \n",
            "     Tech-support  Transport-moving \n",
            "     0.0302367217      0.0521185598 \n"
          ]
        },
        {
          "name": "stdout",
          "output_type": "stream",
          "text": [
            "[1] \"--- P(y) ---\"\n",
            "    <=50K      >50K \n",
            "0.7510775 0.2489225 \n",
            "[1] \"--- P(f | y) ---\"\n",
            "                   \n",
            "                           <=50K         >50K\n",
            "  Adm-clerical      0.1422706807 0.0663292488\n",
            "  Armed-Forces      0.0003531385 0.0001331913\n",
            "  Craft-repair      0.1378123069 0.1209376665\n",
            "  Exec-managerial   0.0907124570 0.2579914758\n",
            "  Farming-fishing   0.0385803832 0.0153169952\n",
            "  Handlers-cleaners 0.0559283129 0.0110548748\n",
            "  Machine-op-inspct 0.0759689238 0.0326318594\n",
            "  Other-service     0.1359583297 0.0175812467\n",
            "  Priv-house-serv   0.0062682087 0.0001331913\n",
            "  Prof-specialty    0.0983049351 0.2412093767\n",
            "  Protective-serv   0.0191577646 0.0279701652\n",
            "  Sales             0.1153880109 0.1291955248\n",
            "  Tech-support      0.0279862276 0.0370271710\n",
            "  Transport-moving  0.0553103205 0.0424880128\n",
            "[1] \"Verification\"\n",
            "<=50K  >50K \n",
            "    1     1 \n",
            "[1] \"--- P(y | f) ---\"\n",
            "                   \n",
            "                          <=50K        >50K\n",
            "  Adm-clerical      0.866165009 0.133834991\n",
            "  Armed-Forces      0.888888889 0.111111111\n",
            "  Craft-repair      0.774689826 0.225310174\n",
            "  Exec-managerial   0.514779559 0.485220441\n",
            "  Farming-fishing   0.883720930 0.116279070\n",
            "  Handlers-cleaners 0.938518519 0.061481481\n",
            "  Machine-op-inspct 0.875381485 0.124618515\n",
            "  Other-service     0.958904110 0.041095890\n",
            "  Priv-house-serv   0.993006993 0.006993007\n",
            "  Prof-specialty    0.551510649 0.448489351\n",
            "  Protective-serv   0.673913043 0.326086957\n",
            "  Sales             0.729352679 0.270647321\n",
            "  Tech-support      0.695175439 0.304824561\n",
            "  Transport-moving  0.797073791 0.202926209\n",
            "[1] \"Verification\"\n",
            "     Adm-clerical      Armed-Forces      Craft-repair   Exec-managerial \n",
            "                1                 1                 1                 1 \n",
            "  Farming-fishing Handlers-cleaners Machine-op-inspct     Other-service \n",
            "                1                 1                 1                 1 \n",
            "  Priv-house-serv    Prof-specialty   Protective-serv             Sales \n",
            "                1                 1                 1                 1 \n",
            "     Tech-support  Transport-moving \n",
            "                1                 1 \n"
          ]
        }
      ],
      "source": [
        "\n",
        "# Marginale P(y) : somme sur les colonnes\n",
        "marginal_y <- colSums(joint_dist)\n",
        "\n",
        "# Marginale P(f) : somme sur les lignes\n",
        "marginal_f <- rowSums(joint_dist)\n",
        "\n",
        "# Affichage\n",
        "print(\"--- P(f) ---\")\n",
        "print(marginal_f)\n",
        "\n",
        "print(\"--- P(y) ---\")\n",
        "print(marginal_y)\n",
        "# Calcul de P(f | y)\n",
        "cond_f_given_y <- sweep(joint_dist, 2, marginal_y, FUN = \"/\")\n",
        "print(\"--- P(f | y) ---\")\n",
        "print(cond_f_given_y)\n",
        "print(\"Verification\")\n",
        "print(colSums(cond_f_given_y)) # Vérification de la somme des colonnes\n",
        "# Calcul de P(y | f)\n",
        "cond_y_given_f <- sweep(joint_dist, 1, marginal_f, FUN = \"/\")\n",
        "print(\"--- P(y | f) ---\")\n",
        "print(cond_y_given_f)\n",
        "\n",
        "print(\"Verification\")\n",
        "print(rowSums(cond_y_given_f)) # Vérification de la somme des colonnes\n"
      ]
    },
    {
      "cell_type": "code",
      "execution_count": 15,
      "metadata": {
        "colab": {
          "base_uri": "https://localhost:8080/"
        },
        "id": "BsKcoNbVZHZS",
        "outputId": "ad1df0a1-533d-4a98-dd73-52b7df9be1a8",
        "vscode": {
          "languageId": "r"
        }
      },
      "outputs": [
        {
          "name": "stdout",
          "output_type": "stream",
          "text": [
            "--- Distribution conjointe P(f, y) ---\n",
            "                   \n",
            "                           <=50K         >50K\n",
            "  Adm-clerical      0.1068563093 0.0165108415\n",
            "  Armed-Forces      0.0002652344 0.0000331543\n",
            "  Craft-repair      0.1035077250 0.0301041045\n",
            "  Exec-managerial   0.0681320867 0.0642198793\n",
            "  Farming-fishing   0.0289768583 0.0038127445\n",
            "  Handlers-cleaners 0.0420064982 0.0027518069\n",
            "  Machine-op-inspct 0.0570585505 0.0081228035\n",
            "  Other-service     0.1021152443 0.0043763676\n",
            "  Priv-house-serv   0.0047079106 0.0000331543\n",
            "  Prof-specialty    0.0738346264 0.0600424375\n",
            "  Protective-serv   0.0143889662 0.0069624030\n",
            "  Sales             0.0866653405 0.0321596711\n",
            "  Tech-support      0.0210198263 0.0092168954\n",
            "  Transport-moving  0.0415423380 0.0105762217\n",
            "\n",
            "--- P(f) ---\n",
            "     Adm-clerical      Armed-Forces      Craft-repair   Exec-managerial \n",
            "     0.1233671507      0.0002983887      0.1336118295      0.1323519660 \n",
            "  Farming-fishing Handlers-cleaners Machine-op-inspct     Other-service \n",
            "     0.0327896028      0.0447583052      0.0651813540      0.1064916120 \n",
            "  Priv-house-serv    Prof-specialty   Protective-serv             Sales \n",
            "     0.0047410649      0.1338770639      0.0213513693      0.1188250116 \n",
            "     Tech-support  Transport-moving \n",
            "     0.0302367217      0.0521185598 \n",
            "\n",
            "--- P(y) ---\n",
            "    <=50K      >50K \n",
            "0.7510775 0.2489225 \n",
            "\n",
            "--- P(f | y) ---\n",
            "                   \n",
            "                           <=50K         >50K\n",
            "  Adm-clerical      0.1422706807 0.0663292488\n",
            "  Armed-Forces      0.0003531385 0.0001331913\n",
            "  Craft-repair      0.1378123069 0.1209376665\n",
            "  Exec-managerial   0.0907124570 0.2579914758\n",
            "  Farming-fishing   0.0385803832 0.0153169952\n",
            "  Handlers-cleaners 0.0559283129 0.0110548748\n",
            "  Machine-op-inspct 0.0759689238 0.0326318594\n",
            "  Other-service     0.1359583297 0.0175812467\n",
            "  Priv-house-serv   0.0062682087 0.0001331913\n",
            "  Prof-specialty    0.0983049351 0.2412093767\n",
            "  Protective-serv   0.0191577646 0.0279701652\n",
            "  Sales             0.1153880109 0.1291955248\n",
            "  Tech-support      0.0279862276 0.0370271710\n",
            "  Transport-moving  0.0553103205 0.0424880128\n",
            "\n",
            "Vérification P(f | y):\n",
            "<=50K  >50K \n",
            "    1     1 \n",
            "\n",
            "--- P(y | f) ---\n",
            "                   \n",
            "                          <=50K        >50K\n",
            "  Adm-clerical      0.866165009 0.133834991\n",
            "  Armed-Forces      0.888888889 0.111111111\n",
            "  Craft-repair      0.774689826 0.225310174\n",
            "  Exec-managerial   0.514779559 0.485220441\n",
            "  Farming-fishing   0.883720930 0.116279070\n",
            "  Handlers-cleaners 0.938518519 0.061481481\n",
            "  Machine-op-inspct 0.875381485 0.124618515\n",
            "  Other-service     0.958904110 0.041095890\n",
            "  Priv-house-serv   0.993006993 0.006993007\n",
            "  Prof-specialty    0.551510649 0.448489351\n",
            "  Protective-serv   0.673913043 0.326086957\n",
            "  Sales             0.729352679 0.270647321\n",
            "  Tech-support      0.695175439 0.304824561\n",
            "  Transport-moving  0.797073791 0.202926209\n",
            "\n",
            "Vérification P(y | f):\n",
            "     Adm-clerical      Armed-Forces      Craft-repair   Exec-managerial \n",
            "                1                 1                 1                 1 \n",
            "  Farming-fishing Handlers-cleaners Machine-op-inspct     Other-service \n",
            "                1                 1                 1                 1 \n",
            "  Priv-house-serv    Prof-specialty   Protective-serv             Sales \n",
            "                1                 1                 1                 1 \n",
            "     Tech-support  Transport-moving \n",
            "                1                 1 \n"
          ]
        }
      ],
      "source": [
        "QualitativeAttrsTheory <- function(data, col_f, col_y) {\n",
        "    # Distribution conjointe P(f, y)\n",
        "    joint_dist <- prop.table(table(data[[col_f]], data[[col_y]]))\n",
        "\n",
        "    cat(\"--- Distribution conjointe P(f, y) ---\\n\")\n",
        "    print(joint_dist)\n",
        "\n",
        "    # Marginale P(y) : somme sur les colonnes\n",
        "    marginal_y <- colSums(joint_dist)\n",
        "\n",
        "    # Marginale P(f) : somme sur les lignes\n",
        "    marginal_f <- rowSums(joint_dist)\n",
        "\n",
        "    cat(\"\\n--- P(f) ---\\n\")\n",
        "    print(marginal_f)\n",
        "\n",
        "    cat(\"\\n--- P(y) ---\\n\")\n",
        "    print(marginal_y)\n",
        "\n",
        "    # Calcul de P(f | y)\n",
        "    cond_f_given_y <- sweep(joint_dist, 2, marginal_y, FUN = \"/\")\n",
        "    cat(\"\\n--- P(f | y) ---\\n\")\n",
        "    print(cond_f_given_y)\n",
        "\n",
        "    cat(\"\\nVérification P(f | y):\\n\")\n",
        "    print(colSums(cond_f_given_y)) # doit être proche de 1\n",
        "\n",
        "    # Calcul de P(y | f)\n",
        "    cond_y_given_f <- sweep(joint_dist, 1, marginal_f, FUN = \"/\")\n",
        "    cat(\"\\n--- P(y | f) ---\\n\")\n",
        "    print(cond_y_given_f)\n",
        "\n",
        "    cat(\"\\nVérification P(y | f):\\n\")\n",
        "    print(rowSums(cond_y_given_f)) # doit être proche de 1\n",
        "}\n",
        "\n",
        "QualitativeAttrsTheory(myData, 7, 15)\n",
        "\n"
      ]
    },
    {
      "cell_type": "markdown",
      "metadata": {
        "id": "DQSAFCmMZoSP"
      },
      "source": [
        "# TP1 B : ANALYSE QUANTITATIVE"
      ]
    },
    {
      "cell_type": "markdown",
      "metadata": {
        "id": "syNEpihZZ22C"
      },
      "source": [
        "### installation package"
      ]
    },
    {
      "cell_type": "code",
      "execution_count": 16,
      "metadata": {
        "colab": {
          "base_uri": "https://localhost:8080/",
          "height": 34
        },
        "id": "62i_WMI5Z5IO",
        "outputId": "271d0f76-ddb3-430f-f049-0b68de76b91f",
        "vscode": {
          "languageId": "r"
        }
      },
      "outputs": [
        {
          "name": "stderr",
          "output_type": "stream",
          "text": [
            "Le chargement a nécessité le package : latex2exp\n",
            "\n",
            "Warning message:\n",
            "\"le package 'latex2exp' a été compilé avec la version R 4.4.3\"\n"
          ]
        },
        {
          "data": {
            "text/html": [
              "'R version 4.4.2 (2024-10-31 ucrt)'"
            ],
            "text/latex": [
              "'R version 4.4.2 (2024-10-31 ucrt)'"
            ],
            "text/markdown": [
              "'R version 4.4.2 (2024-10-31 ucrt)'"
            ],
            "text/plain": [
              "[1] \"R version 4.4.2 (2024-10-31 ucrt)\""
            ]
          },
          "metadata": {},
          "output_type": "display_data"
        },
        {
          "name": "stderr",
          "output_type": "stream",
          "text": [
            "Le chargement a nécessité le package : arules\n",
            "\n",
            "Warning message:\n",
            "\"le package 'arules' a été compilé avec la version R 4.4.3\"\n",
            "Le chargement a nécessité le package : Matrix\n",
            "\n",
            "\n",
            "Attachement du package : 'arules'\n",
            "\n",
            "\n",
            "Les objets suivants sont masqués depuis 'package:base':\n",
            "\n",
            "    abbreviate, write\n",
            "\n",
            "\n"
          ]
        }
      ],
      "source": [
        "# Install and load the latex2exp package, for printing mathematical symbols in R\n",
        "packageName<-\"latex2exp\" #install the arules library that provides the discretization function\n",
        "if (!require(packageName, character.only = TRUE)) {\n",
        "install.packages(packageName)\n",
        "library(packageName, character.only = TRUE)\n",
        "}\n",
        "#arules requires R version >=4.0\n",
        "R.version.string\n",
        "\n",
        "#lets discretize z and repeat the analysis that we did with qualitative attributes, i.e. probabilities and bar plots\n",
        "packageName<-\"arules\" #install the arules library that provides the discretization function\n",
        "if (!require(packageName, character.only = TRUE)) {\n",
        "install.packages(packageName)\n",
        "library(packageName, character.only = TRUE)\n",
        "}"
      ]
    },
    {
      "cell_type": "code",
      "execution_count": 17,
      "metadata": {
        "colab": {
          "base_uri": "https://localhost:8080/",
          "height": 34
        },
        "id": "FEwSx1nqagpY",
        "outputId": "1a628389-f1cb-4ad2-ebd2-4ed19501c104",
        "vscode": {
          "languageId": "r"
        }
      },
      "outputs": [
        {
          "data": {
            "text/html": [
              "<style>\n",
              ".list-inline {list-style: none; margin:0; padding: 0}\n",
              ".list-inline>li {display: inline-block}\n",
              ".list-inline>li:not(:last-child)::after {content: \"\\00b7\"; padding: 0 .5ex}\n",
              "</style>\n",
              "<ol class=list-inline><li>'age'</li><li>'workclass'</li><li>'fnlwgt'</li><li>'education'</li><li>'education.num'</li><li>'marital.status'</li><li>'occupation'</li><li>'relationship'</li><li>'race'</li><li>'sex'</li><li>'capital.gain'</li><li>'capital.loss'</li><li>'hours.per.week'</li><li>'native.country'</li><li>'income'</li></ol>\n"
            ],
            "text/latex": [
              "\\begin{enumerate*}\n",
              "\\item 'age'\n",
              "\\item 'workclass'\n",
              "\\item 'fnlwgt'\n",
              "\\item 'education'\n",
              "\\item 'education.num'\n",
              "\\item 'marital.status'\n",
              "\\item 'occupation'\n",
              "\\item 'relationship'\n",
              "\\item 'race'\n",
              "\\item 'sex'\n",
              "\\item 'capital.gain'\n",
              "\\item 'capital.loss'\n",
              "\\item 'hours.per.week'\n",
              "\\item 'native.country'\n",
              "\\item 'income'\n",
              "\\end{enumerate*}\n"
            ],
            "text/markdown": [
              "1. 'age'\n",
              "2. 'workclass'\n",
              "3. 'fnlwgt'\n",
              "4. 'education'\n",
              "5. 'education.num'\n",
              "6. 'marital.status'\n",
              "7. 'occupation'\n",
              "8. 'relationship'\n",
              "9. 'race'\n",
              "10. 'sex'\n",
              "11. 'capital.gain'\n",
              "12. 'capital.loss'\n",
              "13. 'hours.per.week'\n",
              "14. 'native.country'\n",
              "15. 'income'\n",
              "\n",
              "\n"
            ],
            "text/plain": [
              " [1] \"age\"            \"workclass\"      \"fnlwgt\"         \"education\"     \n",
              " [5] \"education.num\"  \"marital.status\" \"occupation\"     \"relationship\"  \n",
              " [9] \"race\"           \"sex\"            \"capital.gain\"   \"capital.loss\"  \n",
              "[13] \"hours.per.week\" \"native.country\" \"income\"        "
            ]
          },
          "metadata": {},
          "output_type": "display_data"
        }
      ],
      "source": [
        "colnames(myData)\n"
      ]
    },
    {
      "cell_type": "code",
      "execution_count": 18,
      "metadata": {
        "id": "XtQlu5qUmlB9",
        "vscode": {
          "languageId": "r"
        }
      },
      "outputs": [],
      "source": [
        "# Définir la fonction pour générer l'histogramme avec les paramètres spécifiés\n",
        "plot_histogram <- function(field_index, target_index, num_breaks) {\n",
        "\n",
        "  # Récupérer le jeu de données 'myData' globalement\n",
        "  data <- myData\n",
        "  # Extraire les colonnes à partir des indices\n",
        "  field <- data[, field_index]  # Le champ à analyser (par exemple, \"age\")\n",
        "  target <- data[, target_index]  # La variable cible (par exemple, \"income\")\n",
        "\n",
        "  # Récupérer les noms des colonnes\n",
        "  field_name <- colnames(data)[field_index]  # Nom de la colonne à analyser\n",
        "  target_name <- colnames(data)[target_index]  # Nom de la variable cible\n",
        "\n",
        "  # Calculer les coupures avec le nombre de bins spécifié\n",
        "  breaks <- seq(from = min(field), to = max(field), length.out = num_breaks)\n",
        "\n",
        " # 1. Histogramme global (distribution de la variable seule)\n",
        "  hist(field,\n",
        "       breaks = breaks,\n",
        "       col = \"skyblue\",\n",
        "       main = paste(\"Distribution de\", field_name),\n",
        "       xlab = field_name,\n",
        "       freq = TRUE)\n",
        "\n",
        "  # 2. Histogramme conditionnel superposé : P(field | target)\n",
        "  hist(field[target == \"<=50K\"],\n",
        "       breaks = breaks,\n",
        "       col = rgb(1, 0, 0, 0.5),\n",
        "       xlab = field_name,\n",
        "       main = paste(\"P(\", field_name, \" | \", target_name, \")\", sep = \"\"),\n",
        "       freq = TRUE,\n",
        "       xaxt = \"n\")\n",
        "\n",
        "  hist(field[target == \">50K\"],\n",
        "       breaks = breaks,\n",
        "       col = rgb(0, 1, 0, 0.5),\n",
        "       freq = TRUE,\n",
        "       add = TRUE)\n",
        "\n",
        "\n",
        "  # Ajouter l'axe des x avec plus de valeurs\n",
        "  axis(1, at = seq(min(field), max(field), by = 2))\n",
        "\n",
        "  # Ajouter une légende\n",
        "  legend(\"topright\",\n",
        "         legend = c(\"<=50K\", \">50K\"),\n",
        "         fill = c(rgb(1, 0, 0, 0.5), rgb(0, 1, 0, 0.5)))\n",
        "}"
      ]
    },
    {
      "cell_type": "code",
      "execution_count": 19,
      "metadata": {
        "id": "RDRbzONLxED2",
        "vscode": {
          "languageId": "r"
        }
      },
      "outputs": [],
      "source": [
        "plot_scatter <- function(x_index, y_index, target_index) {\n",
        "  data <- myData\n",
        "\n",
        "  x <- data[[x_index]]\n",
        "  y <- data[[y_index]]\n",
        "  target <- data[[target_index]]\n",
        "\n",
        "  x_name <- colnames(data)[x_index]\n",
        "  y_name <- colnames(data)[y_index]\n",
        "  target_name <- colnames(data)[target_index]\n",
        "\n",
        "  # Définir des couleurs selon la cible\n",
        "  colors <- ifelse(target == \">50K\", \"darkgreen\", \"red\")\n",
        "\n",
        "\n",
        "\n",
        "  # Créer le scatter plot\n",
        "  plot(x, y,\n",
        "       col = colors,\n",
        "       pch = 19,\n",
        "       xlab = x_name,\n",
        "       ylab = y_name,\n",
        "       main = paste(\"Diagramme de dispersion :\", y_name, \"vs\", x_name))\n",
        "\n",
        "  # Ajouter la légende\n",
        "  legend(\"topright\",\n",
        "         legend = c(\"<=50K\", \">50K\"),\n",
        "         col = c(\"red\", \"darkgreen\"),\n",
        "         pch = 19)\n",
        "}\n"
      ]
    },
    {
      "cell_type": "code",
      "execution_count": 20,
      "metadata": {
        "id": "Y3IM9FN8h5bj",
        "vscode": {
          "languageId": "r"
        }
      },
      "outputs": [],
      "source": [
        "stat_Attribut <- function(x_index, group_index) {\n",
        "  data <- myData\n",
        "\n",
        "  # Extraire les colonnes à partir des indices\n",
        "  field <- data[, x_index]\n",
        "  group <- data[, group_index]\n",
        "\n",
        "  # Obtenir les noms des colonnes\n",
        "  attr_name <- colnames(data)[x_index]\n",
        "  group_name <- colnames(data)[group_index]\n",
        "\n",
        "  # Moyenne, variance, écart-type global\n",
        "  mean_global <- mean(field)\n",
        "  var_global <- mean((field - mean_global)^2)\n",
        "  sd_global <- sqrt(var_global)\n",
        "\n",
        "  # Moyennes conditionnelles\n",
        "  means_by_class <- tapply(field, group, mean)\n",
        "  vars_by_class <- tapply(field, group, function(x) mean((x - mean(x))^2))\n",
        "  sds_by_class <- sqrt(vars_by_class)\n",
        "\n",
        "  # Différence de moyennes\n",
        "  diff_means <- abs(diff(means_by_class))\n",
        "\n",
        "  # Score d’importance\n",
        "  score <- diff_means / sd_global\n",
        "\n",
        "  # Affichage structuré\n",
        "  cat(\"📌 Analyse de l'attribut :\", attr_name, \"\\n\")\n",
        "  cat(\"Moyenne globale       :\", round(mean_global, 4), \"\\n\")\n",
        "  cat(\"Variance globale      :\", round(var_global, 4), \"\\n\")\n",
        "  cat(\"Écart-type global     :\", round(sd_global, 4), \"\\n\\n\")\n",
        "\n",
        "  cat(\"📊 Moyennes par classe (\", group_name, \"):\\n\")\n",
        "  print(round(means_by_class, 4))\n",
        "\n",
        "  cat(\"\\n📈 Variances par classe:\\n\")\n",
        "  print(round(vars_by_class, 4))\n",
        "\n",
        "  cat(\"\\n📏 Écarts-types par classe:\\n\")\n",
        "  print(round(sds_by_class, 4))\n",
        "\n",
        "  cat(\"\\n🔍 Différence de moyennes :\", round(diff_means, 4), \"\\n\")\n",
        "  cat(\"📐 Score d'importance     :\", round(score, 4), \"\\n\")\n",
        "  print(\"-------------------------------------  \")\n",
        "}\n",
        "\n",
        "\n"
      ]
    },
    {
      "cell_type": "markdown",
      "metadata": {
        "id": "tubt21aTwOx4"
      },
      "source": [
        "### test function"
      ]
    },
    {
      "cell_type": "code",
      "execution_count": 21,
      "metadata": {
        "colab": {
          "base_uri": "https://localhost:8080/"
        },
        "id": "QUSorSllwOC4",
        "outputId": "097bcc4d-a82b-46ec-a619-aeb937658808",
        "vscode": {
          "languageId": "r"
        }
      },
      "outputs": [
        {
          "name": "stdout",
          "output_type": "stream",
          "text": [
            "📌 Analyse de l'attribut : age \n",
            "Moyenne globale       : 38.4379 \n",
            "Variance globale      : 172.5137 \n",
            "Écart-type global     : 13.1344 \n",
            "\n",
            "📊 Moyennes par classe ( income ):\n",
            "  <=50K    >50K \n",
            "36.6081 43.9591 \n",
            "\n",
            "📈 Variances par classe:\n",
            "   <=50K     >50K \n",
            "181.2883 105.4513 \n",
            "\n",
            "📏 Écarts-types par classe:\n",
            "  <=50K    >50K \n",
            "13.4643 10.2689 \n",
            "\n",
            "🔍 Différence de moyennes : 7.351 \n",
            "📐 Score d'importance     : 0.5597 \n",
            "[1] \"-------------------------------------  \"\n",
            "📌 Analyse de l'attribut : education.num \n",
            "Moyenne globale       : 10.1213 \n",
            "Variance globale      : 6.5023 \n",
            "Écart-type global     : 2.55 \n",
            "\n",
            "📊 Moyennes par classe ( income ):\n",
            "  <=50K    >50K \n",
            " 9.6291 11.6064 \n",
            "\n",
            "📈 Variances par classe:\n",
            " <=50K   >50K \n",
            "5.8252 5.6087 \n",
            "\n",
            "📏 Écarts-types par classe:\n",
            " <=50K   >50K \n",
            "2.4135 2.3683 \n",
            "\n",
            "🔍 Différence de moyennes : 1.9773 \n",
            "📐 Score d'importance     : 0.7754 \n",
            "[1] \"-------------------------------------  \"\n",
            "📌 Analyse de l'attribut : capital.gain \n",
            "Moyenne globale       : 1092.008 \n",
            "Variance globale      : 54852150 \n",
            "Écart-type global     : 7406.224 \n",
            "\n",
            "📊 Moyennes par classe ( income ):\n",
            "    <=50K      >50K \n",
            " 148.8938 3937.6798 \n",
            "\n",
            "📈 Variances par classe:\n",
            "      <=50K        >50K \n",
            "   876791.8 206931157.8 \n",
            "\n",
            "📏 Écarts-types par classe:\n",
            "     <=50K       >50K \n",
            "  936.3716 14385.1019 \n",
            "\n",
            "🔍 Différence de moyennes : 3788.786 \n",
            "📐 Score d'importance     : 0.5116 \n",
            "[1] \"-------------------------------------  \"\n",
            "📌 Analyse de l'attribut : capital.loss \n",
            "Moyenne globale       : 88.3725 \n",
            "Variance globale      : 163451.8 \n",
            "Écart-type global     : 404.2917 \n",
            "\n",
            "📊 Moyennes par classe ( income ):\n",
            "   <=50K     >50K \n",
            " 53.4480 193.7507 \n",
            "\n",
            "📈 Variances par classe:\n",
            "    <=50K      >50K \n",
            " 96263.39 351395.37 \n",
            "\n",
            "📏 Écarts-types par classe:\n",
            "   <=50K     >50K \n",
            "310.2634 592.7861 \n",
            "\n",
            "🔍 Différence de moyennes : 140.3027 \n",
            "📐 Score d'importance     : 0.347 \n",
            "[1] \"-------------------------------------  \"\n",
            "📌 Analyse de l'attribut : hours.per.week \n",
            "Moyenne globale       : 40.9312 \n",
            "Variance globale      : 143.5153 \n",
            "Écart-type global     : 11.9798 \n",
            "\n",
            "📊 Moyennes par classe ( income ):\n",
            "  <=50K    >50K \n",
            "39.3486 45.7066 \n",
            "\n",
            "📈 Variances par classe:\n",
            "   <=50K     >50K \n",
            "142.8147 115.2675 \n",
            "\n",
            "📏 Écarts-types par classe:\n",
            "  <=50K    >50K \n",
            "11.9505 10.7363 \n",
            "\n",
            "🔍 Différence de moyennes : 6.358 \n",
            "📐 Score d'importance     : 0.5307 \n",
            "[1] \"-------------------------------------  \"\n"
          ]
        }
      ],
      "source": [
        "#On commence par tester les scores de chaque attributs quantitiatif (sauf fnlwgt et income)\n",
        "stat_Attribut(1, 15)\n",
        "stat_Attribut(5, 15)\n",
        "stat_Attribut(11, 15)\n",
        "stat_Attribut(12, 15)\n",
        "stat_Attribut(13, 15)"
      ]
    },
    {
      "cell_type": "code",
      "execution_count": 22,
      "metadata": {
        "colab": {
          "base_uri": "https://localhost:8080/"
        },
        "id": "KjnTVwHiIWSm",
        "outputId": "3eca5e1c-d30b-4815-9dbb-387300186cb0",
        "vscode": {
          "languageId": "r"
        }
      },
      "outputs": [
        {
          "name": "stdout",
          "output_type": "stream",
          "text": [
            "             Attribut   Moyenne     Variance Moyenne_Classe1 Moyenne_Classe2\n",
            "<=50K             age   38.4379 1.725137e+02         36.6081         43.9591\n",
            "<=50K1  education.num   10.1213 6.502300e+00          9.6291         11.6064\n",
            "<=50K2   capital.gain 1092.0079 5.485215e+07        148.8938       3937.6798\n",
            "<=50K3   capital.loss   88.3725 1.634518e+05         53.4480        193.7507\n",
            "<=50K4 hours.per.week   40.9312 1.435153e+02         39.3486         45.7066\n",
            "       Variance_Classe1 Variance_Classe2  Score\n",
            "<=50K          181.2883     1.054513e+02 0.5597\n",
            "<=50K1           5.8252     5.608700e+00 0.7754\n",
            "<=50K2      876791.7959     2.069312e+08 0.5116\n",
            "<=50K3       96263.3866     3.513954e+05 0.3470\n",
            "<=50K4         142.8147     1.152675e+02 0.5307\n"
          ]
        }
      ],
      "source": [
        "# Indices des attributs quantitatifs (sans fnlwgt ni income)\n",
        "indices_quant <- c(1, 5, 11, 12, 13)\n",
        "attributs <- colnames(myData)[indices_quant]\n",
        "\n",
        "# Créer le tableau\n",
        "recap_etendu <- data.frame(\n",
        "  Attribut = character(),\n",
        "  Moyenne = numeric(),\n",
        "  Variance = numeric(),\n",
        "  Moyenne_Classe1 = numeric(),\n",
        "  Moyenne_Classe2 = numeric(),\n",
        "  Variance_Classe1 = numeric(),\n",
        "  Variance_Classe2 = numeric(),\n",
        "  Score = numeric()\n",
        ")\n",
        "\n",
        "for (i in indices_quant) {\n",
        "  field <- myData[, i]\n",
        "  income <- myData[, 15]\n",
        "\n",
        "  # Moyenne et variance globales\n",
        "  mean_global <- mean(field)\n",
        "  var_global <- mean((field - mean_global)^2)\n",
        "  sd_global <- sqrt(var_global)\n",
        "\n",
        "  # Moyennes et variances conditionnelles\n",
        "  means <- tapply(field, income, mean)\n",
        "  vars <- tapply(field, income, function(x) mean((x - mean(x))^2))\n",
        "\n",
        "  # Score d'importance\n",
        "  diff_mean <- abs(diff(means))\n",
        "  score <- diff_mean / sd_global\n",
        "\n",
        "  # Ajouter au tableau\n",
        "  recap_etendu <- rbind(recap_etendu, data.frame(\n",
        "    Attribut = colnames(myData)[i],\n",
        "    Moyenne = mean_global,\n",
        "    Variance = var_global,\n",
        "    Moyenne_Classe1 = means[\"<=50K\"],\n",
        "    Moyenne_Classe2 = means[\">50K\"],\n",
        "    Variance_Classe1 = vars[\"<=50K\"],\n",
        "    Variance_Classe2 = vars[\">50K\"],\n",
        "    Score = score\n",
        "  ))\n",
        "}\n",
        "\n",
        "recap_etendu_rounded <- recap_etendu\n",
        "recap_etendu_rounded[, 2:8] <- round(recap_etendu_rounded[, 2:8], 4)\n",
        "print(recap_etendu_rounded)\n"
      ]
    },
    {
      "cell_type": "code",
      "execution_count": 23,
      "metadata": {
        "colab": {
          "base_uri": "https://localhost:8080/",
          "height": 1000
        },
        "id": "t8ei5UfMLWYU",
        "outputId": "a5dbee35-9bee-4a2d-d80e-997c340de132",
        "vscode": {
          "languageId": "r"
        }
      },
      "outputs": [
        {
          "data": {
            "image/png": "[encoded data removed]",
            "text/plain": [
              "Plot with title \"Distribution de age\""
            ]
          },
          "metadata": {
            "image/png": {
              "height": 420,
              "width": 420
            }
          },
          "output_type": "display_data"
        },
        {
          "data": {
            "image/png": "[encoded data removed]",
            "text/plain": [
              "Plot with title \"P(age | income)\""
            ]
          },
          "metadata": {
            "image/png": {
              "height": 420,
              "width": 420
            }
          },
          "output_type": "display_data"
        },
        {
          "data": {
            "image/png": "[encoded data removed]",
            "text/plain": [
              "Plot with title \"Distribution de education.num\""
            ]
          },
          "metadata": {
            "image/png": {
              "height": 420,
              "width": 420
            }
          },
          "output_type": "display_data"
        },
        {
          "data": {
            "image/png": "[encoded data removed]",
            "text/plain": [
              "Plot with title \"P(education.num | income)\""
            ]
          },
          "metadata": {
            "image/png": {
              "height": 420,
              "width": 420
            }
          },
          "output_type": "display_data"
        },
        {
          "data": {
            "image/png": "[encoded data removed]",
            "text/plain": [
              "Plot with title \"Diagramme de dispersion : education.num vs age\""
            ]
          },
          "metadata": {
            "image/png": {
              "height": 420,
              "width": 420
            }
          },
          "output_type": "display_data"
        }
      ],
      "source": [
        "# age\n",
        "plot_histogram(1,15,30)\n",
        "plot_histogram(5,15,15)\n",
        "\n",
        "plot_scatter(1,5,15)\n",
        "\n"
      ]
    },
    {
      "cell_type": "code",
      "execution_count": null,
      "metadata": {
        "colab": {
          "base_uri": "https://localhost:8080/",
          "height": 1000
        },
        "id": "4TZz67RcTxDe",
        "outputId": "9fa5e0f7-c445-4c1d-9afe-0920691a7d0a",
        "vscode": {
          "languageId": "r"
        }
      },
      "outputs": [
        {
          "ename": "ERROR",
          "evalue": "Error in library(ggplot2): aucun package nommé 'ggplot2' n'est trouvé\n",
          "output_type": "error",
          "traceback": [
            "Error in library(ggplot2): aucun package nommé 'ggplot2' n'est trouvé\nTraceback:\n",
            "1. library(ggplot2)",
            "2. stop(packageNotFoundError(package, lib.loc, sys.call()))"
          ]
        }
      ],
      "source": [
        "QuantitativeAttrsTheory <- function(data, f_index, target_index) {\n",
        "  library(ggplot2)\n",
        "\n",
        "  # Extraction des variables\n",
        "  f <- data[[f_index]]\n",
        "  y <- data[[target_index]]\n",
        "\n",
        "  # Nettoyer NA si besoin\n",
        "  df <- data.frame(f = f, y = y)\n",
        "  df <- na.omit(df)\n",
        "\n",
        "  # Moyenne et écart-type globaux\n",
        "  mu <- mean(df$f)\n",
        "  sigma <- sd(df$f)\n",
        "\n",
        "  # Moyenne et écart-type par modalité de y\n",
        "  stats_by_y <- aggregate(f ~ y, data = df, FUN = function(x) c(mean=mean(x), sd=sd(x)))\n",
        "  # Réorganiser les résultats\n",
        "  stats_by_y <- do.call(data.frame, stats_by_y)\n",
        "  colnames(stats_by_y) <- c(\"y\", \"mean\", \"sd\")\n",
        "\n",
        "  # Histogramme de f global + courbe normale\n",
        "  p1 <- ggplot(df, aes(x = f)) +\n",
        "    geom_histogram(aes(y=..density..), bins=30, fill=\"skyblue\", color=\"black\", alpha=0.6) +\n",
        "    stat_function(fun = dnorm, args = list(mean = mu, sd = sigma), color = \"red\", size=1) +\n",
        "    ggtitle(\"Distribution globale de f avec loi normale\")\n",
        "\n",
        "  print(p1)\n",
        "\n",
        "  # Histogramme de f par classe de y + courbes normales\n",
        "  p2 <- ggplot(df, aes(x = f, fill = y)) +\n",
        "    geom_histogram(aes(y=..density..), bins=30, alpha=0.5, position = \"identity\") +\n",
        "    stat_function(data = stats_by_y, aes(color = y),\n",
        "                  fun = function(x, mean, sd) dnorm(x, mean, sd),\n",
        "                  args = list(mean = stats_by_y$mean, sd = stats_by_y$sd),\n",
        "                  size=1, inherit.aes = FALSE) +\n",
        "    facet_wrap(~ y) +\n",
        "    ggtitle(\"Distribution de f conditionnelle à y\")\n",
        "\n",
        "  print(p2)\n",
        "\n",
        "  # Discussion\n",
        "  cat(\"Moyenne globale de f :\", mu, \"\\n\")\n",
        "  cat(\"Écart-type global de f :\", sigma, \"\\n\\n\")\n",
        "  cat(\"Moyennes et écarts-types de f selon les classes de y :\\n\")\n",
        "  print(stats_by_y)\n",
        "\n",
        "  cat(\"\\nDiscussion :\\n\")\n",
        "  cat(\"- La distribution globale P(f) modélisée par une loi normale est basée sur la moyenne et l'écart-type globaux.\\n\")\n",
        "  cat(\"- Les distributions conditionnelles P(f|y) changent car les moyennes et écarts-types sont calculés par classe de y.\\n\")\n",
        "  cat(\"- Comparer les histogrammes avec les courbes normales permet d'évaluer si f suit bien une loi normale, globalement ou par classe.\\n\")\n",
        "}\n",
        "\n",
        "QuantitativeAttrsTheory(myData,  1, 15)\n"
      ]
    }
  ],
  "metadata": {
    "colab": {
      "collapsed_sections": [
        "Mx8qVG25ZHY4",
        "qdc92LMSZHZC",
        "E1FgojXbZHZQ"
      ],
      "provenance": []
    },
    "kernelspec": {
      "display_name": "R",
      "language": "R",
      "name": "ir"
    },
    "language_info": {
      "codemirror_mode": "r",
      "file_extension": ".r",
      "mimetype": "text/x-r-source",
      "name": "R",
      "pygments_lexer": "r",
      "version": "4.4.2"
    }
  },
  "nbformat": 4,
  "nbformat_minor": 0
}
