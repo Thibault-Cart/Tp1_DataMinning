{
 "cells": [
  {
   "cell_type": "code",
   "execution_count": null,
   "id": "987a31a4-5606-402a-9b2f-d41de3c4a92c",
   "metadata": {},
   "outputs": [],
   "source": []
  }
 ],
 "metadata": {
  "kernelspec": {
   "display_name": "R [conda env:r-conda]",
   "language": "R",
   "name": "conda-env-r-conda-r"
  },
  "language_info": {
   "codemirror_mode": "r",
   "file_extension": ".r",
   "mimetype": "text/x-r-source",
   "name": "R",
   "pygments_lexer": "r",
   "version": "3.6.1"
  }
 },
 "nbformat": 4,
 "nbformat_minor": 5
}
